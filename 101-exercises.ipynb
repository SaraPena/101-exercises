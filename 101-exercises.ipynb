{
 "cells": [
  {
   "cell_type": "markdown",
   "metadata": {},
   "source": [
    "# Welcome to 101 Exercises for Python Fundamentals\n",
    "> \"Learning to program takes a little bit of study and a *lot* of practice\" - Luis Montealegre"
   ]
  },
  {
   "cell_type": "markdown",
   "metadata": {},
   "source": [
    "## Orientation\n",
    "- **Expect to see lots of errors** the first time you load this page. \n",
    "- **Expect to see lots of errors** for all cells run without code that matches the assertion tests.\n",
    "- Until you click \"Fork\" to make your own copy, you will see an entire page of errors. This is part of the automated tests.\n",
    "- Once you've made your own fork, go to \"Run\" then \"Restart Session\" to clear up any error messages.\n",
    "- Each *assert* line is both an example and a test that tests for the presence and functionality of the instructed exercise. \n",
    "\n",
    "## The only 3 conditions that produce no errors:\n",
    "1. When you make a fresh **fork** of the project.\n",
    "2. When you go to \"Run\" and then click \"Restart Session\"\n",
    "3. When every single assertion passes\n",
    "\n",
    "\n",
    "## Outline\n",
    "- Each cell starts with a problem statement that describes the exercise to complete.\n",
    "- Underneath each problem statement, learners will need to write code to produce an answer.\n",
    "- The **assert** lines test to see that your code solves the problem appropriately\n",
    "- Many exercises will rely on previous solutions to be correctly completed\n",
    "- The `print(\"Exercise is complete\")` line will only run if your solution passes the assertion test(s)\n",
    "- Be sure to create programmatic solutions that will work for all inputs:\n",
    "- For example, calling the `is_even(2)` returns `True`, but your function should work for all even numbers, both positive and negative.\n",
    "- To \"run a cell\" of code, click the cell and press \"Shift+Enter\" on your keyboard or click on the play button to the left of the cell. This will execute the Python code contained in the cell. Executing a cell that defines a variable is important before executing or authoring a cell that depends on that previously created variable assignment."
   ]
  },
  {
   "cell_type": "markdown",
   "metadata": {},
   "source": [
    "## Getting Started\n",
    "0. Create your own account on Kaggle.com\n",
    "1. Click \"Fork\" on this to create your own copy\n",
    "2. As you complete exercises, be sure to click \"Commit\" to create save points for your work.\n",
    "3. If you need to refresh and restart this learning environment, go to **Run** then select **Restart Session**. "
   ]
  },
  {
   "cell_type": "markdown",
   "metadata": {},
   "source": [
    "## Troubleshooting\n",
    "- If this entire document shows \"Name Error\" for many cells, it means you should read the \"Getting Started\" instructions above to make your own copy.\n",
    "- \"Name Error\" means that you need to assign a variable or define the function as instructed.\n",
    "- \"Assertion Error\" means that your provided solution does not match the correct answer.\n",
    "- \"Type Error\" means that your data type provided is not accurate\n",
    "- If your kernel freezes, click on \"Run\" then select \"Restart Session\"\n",
    "- If you require additional troubleshooting assistance, click on \"Help\" and then \"Docs\" to access documentation for this platform.\n",
    "- If you have discoverd a bug or typo, please double check then create a new issue at [https://github.com/ryanorsinger/101-exercises/issues](https://github.com/ryanorsinger/101-exercises/issues) to notify the author."
   ]
  },
  {
   "cell_type": "code",
   "execution_count": 1,
   "metadata": {
    "_cell_guid": "79c7e3d0-c299-4dcb-8224-4455121ee9b0",
    "_uuid": "d629ff2d2480ee46fbb7e2d37f6b5fab8052498a"
   },
   "outputs": [
    {
     "name": "stdout",
     "output_type": "stream",
     "text": [
      "Exercise 0 is correct\n"
     ]
    }
   ],
   "source": [
    "# Example problem:\n",
    "# Uncomment the line below and run this cell.\n",
    "doing_python_right_now = True\n",
    "\n",
    "# The lines below will test your answer. If you see an error, then it means that your answer is incorrect or \n",
    "# incomplete.\n",
    "assert doing_python_right_now == True \n",
    "##If you see a NameError, it means that the \n",
    "# variable is not created and assigned a value. An 'Assertion Error' means \n",
    "# that the value of the variable is incorrect.\" \n",
    "print(\"Exercise 0 is correct\") # This line will print if your solution passes the assertion above."
   ]
  },
  {
   "cell_type": "code",
   "execution_count": 2,
   "metadata": {},
   "outputs": [
    {
     "name": "stdout",
     "output_type": "stream",
     "text": [
      "Exercise 1 is correct.\n"
     ]
    }
   ],
   "source": [
    "# Exercise 1\n",
    "# On the line below, create a variable named on_mars_right_now and assign it the boolean value of False\n",
    "on_mars_right_now = False\n",
    "\n",
    "assert on_mars_right_now == False, \"If you see a Name Error, be sure to create the variable and assign it a value.\"\n",
    "print(\"Exercise 1 is correct.\")"
   ]
  },
  {
   "cell_type": "code",
   "execution_count": 3,
   "metadata": {},
   "outputs": [
    {
     "name": "stdout",
     "output_type": "stream",
     "text": [
      "Exercise 2 is correct.\n"
     ]
    }
   ],
   "source": [
    "# Exercise 2\n",
    "# Create a variable named fruits and assign it a list of fruits containing the following fruit names as strings: \n",
    "# mango, banana, guava, kiwi, and strawberry.\n",
    "\n",
    "fruits = [\"mango\", \"banana\", \"guava\", \"kiwi\", \"strawberry\"]\n",
    "\n",
    "assert fruits == [\"mango\", \"banana\", \"guava\", \"kiwi\", \"strawberry\"], \"If you see an Assert Error, ensure the variable contains all the strings in the provided order\"\n",
    "print(\"Exercise 2 is correct.\")"
   ]
  },
  {
   "cell_type": "code",
   "execution_count": 4,
   "metadata": {},
   "outputs": [
    {
     "name": "stdout",
     "output_type": "stream",
     "text": [
      "Exercise 3 is correct.\n"
     ]
    }
   ],
   "source": [
    "# Exercise 3\n",
    "# Create a variable named vegetables and assign it a list of fruits containing the following vegetable names as strings: \n",
    "# eggplant, broccoli, carrot, cauliflower, and zucchini\n",
    "\n",
    "vegetables = [\"eggplant\", \"broccoli\", \"carrot\", \"cauliflower\", \"zucchini\"]\n",
    "\n",
    "assert vegetables == [\"eggplant\", \"broccoli\", \"carrot\", \"cauliflower\", \"zucchini\"] \n",
    "#\"Ensure the variable contains all the strings in the provided order\"\n",
    "print(\"Exercise 3 is correct.\")"
   ]
  },
  {
   "cell_type": "code",
   "execution_count": 5,
   "metadata": {},
   "outputs": [
    {
     "name": "stdout",
     "output_type": "stream",
     "text": [
      "Exercise 4 is correct.\n"
     ]
    }
   ],
   "source": [
    "# Exercise 4\n",
    "# Create a variable named numbers and assign it a list of numbers, 1, 2, 3, 4, 5, 6, 7, 8, 9, 10\n",
    "\n",
    "numbers = [1,2,3,4,5,6,7,8,9,10]\n",
    "\n",
    "assert numbers == [1, 2, 3, 4, 5, 6, 7, 8, 9, 10], \"Ensure the variable contains the numbers 1-10 in order.\"\n",
    "print(\"Exercise 4 is correct.\")"
   ]
  },
  {
   "cell_type": "markdown",
   "metadata": {},
   "source": [
    "## List Operations\n",
    "**Hint** Recommend finding and using built-in Python functionality whenever possible."
   ]
  },
  {
   "cell_type": "code",
   "execution_count": 6,
   "metadata": {},
   "outputs": [
    {
     "name": "stdout",
     "output_type": "stream",
     "text": [
      "Exercise 5 is correct\n"
     ]
    }
   ],
   "source": [
    "# Exercise 5\n",
    "# Given the following assigment of the list of fruits, add \"tomato\" to the end of the list. \n",
    "fruits = [\"mango\", \"banana\", \"guava\", \"kiwi\", \"strawberry\"]\n",
    "fruits.append(\"tomato\")\n",
    "\n",
    "assert fruits == [\"mango\", \"banana\", \"guava\", \"kiwi\", \"strawberry\", \"tomato\"], \"Ensure the variable contains all the strings in the right order\"\n",
    "print(\"Exercise 5 is correct\")"
   ]
  },
  {
   "cell_type": "code",
   "execution_count": 7,
   "metadata": {},
   "outputs": [
    {
     "name": "stdout",
     "output_type": "stream",
     "text": [
      "Exercise 6 is correct\n"
     ]
    }
   ],
   "source": [
    "# Exercise 6\n",
    "# Given the following assignment of the vegetables list, add \"tomato\" to the end of the list.\n",
    "vegetables = [\"eggplant\", \"broccoli\", \"carrot\", \"cauliflower\", \"zucchini\"]\n",
    "vegetables.append(\"tomato\")\n",
    "\n",
    "assert vegetables == [\"eggplant\", \"broccoli\", \"carrot\", \"cauliflower\", \"zucchini\", \"tomato\"], \"Ensure the variable contains all the strings in the provided order\"\n",
    "print(\"Exercise 6 is correct\")"
   ]
  },
  {
   "cell_type": "code",
   "execution_count": 8,
   "metadata": {},
   "outputs": [
    {
     "name": "stdout",
     "output_type": "stream",
     "text": [
      "Exercise 7 is correct.\n"
     ]
    }
   ],
   "source": [
    "# Exercise 7\n",
    "# Given the list of numbers defined below, reverse the list of numbers that you created above. \n",
    "numbers = [1, 2, 3, 4, 5, 6, 7, 8, 9, 10]\n",
    "numbers.reverse()\n",
    "\n",
    "\n",
    "assert numbers == [10, 9, 8, 7, 6, 5, 4, 3, 2, 1], \"Assert Error means that the answer is incorrect.\" \n",
    "print(\"Exercise 7 is correct.\")"
   ]
  },
  {
   "cell_type": "code",
   "execution_count": 9,
   "metadata": {},
   "outputs": [
    {
     "name": "stdout",
     "output_type": "stream",
     "text": [
      "Exercise 8 is correct.\n"
     ]
    }
   ],
   "source": [
    "# Exercise 8\n",
    "# Sort the vegetables in alphabetical order\n",
    "\n",
    "vegetables.sort()\n",
    "\n",
    "assert vegetables == ['broccoli', 'carrot', 'cauliflower', 'eggplant', 'tomato', 'zucchini']\n",
    "print(\"Exercise 8 is correct.\")"
   ]
  },
  {
   "cell_type": "code",
   "execution_count": 10,
   "metadata": {},
   "outputs": [
    {
     "name": "stdout",
     "output_type": "stream",
     "text": [
      "Exercise 9 is correct.\n"
     ]
    }
   ],
   "source": [
    "# Exercise 9\n",
    "# Write the code necessary to sort the fruits in reverse alphabetical order\n",
    "\n",
    "\n",
    "fruits.sort(key=None,reverse=True)\n",
    "\n",
    "assert fruits == ['tomato', 'strawberry', 'mango', 'kiwi', 'guava', 'banana']\n",
    "print(\"Exercise 9 is correct.\")"
   ]
  },
  {
   "cell_type": "code",
   "execution_count": 11,
   "metadata": {},
   "outputs": [
    {
     "name": "stdout",
     "output_type": "stream",
     "text": [
      "Exercise 10 is correct\n"
     ]
    }
   ],
   "source": [
    "# Exercise 10\n",
    "# Write the code necessary to produce a single list that holds all fruits \n",
    "# then all vegetables in the order as they were sorted above.\n",
    "\n",
    "fruits_and_veggies = fruits + vegetables\n",
    "\n",
    "\n",
    "assert fruits_and_veggies == ['tomato', 'strawberry', 'mango', 'kiwi', 'guava', 'banana', 'broccoli', 'carrot', 'cauliflower', 'eggplant', 'tomato', 'zucchini']\n",
    "print(\"Exercise 10 is correct\")"
   ]
  },
  {
   "cell_type": "markdown",
   "metadata": {},
   "source": [
    "## Basic Functions\n",
    "![](http://)**Hint** Be sure to `return` values from your function definitions. The assert statements will call your function(s) for you."
   ]
  },
  {
   "cell_type": "code",
   "execution_count": 12,
   "metadata": {},
   "outputs": [
    {
     "name": "stdout",
     "output_type": "stream",
     "text": [
      "We now have some random numbers available for future exercises.\n",
      "The random positive even number is 42\n",
      "The random positive odd nubmer is 89\n",
      "The random negative even number -12\n",
      "The random negative odd number -75\n"
     ]
    }
   ],
   "source": [
    "# Run this cell in order to generate some numbers to use in our functions after this.\n",
    "import random\n",
    "    \n",
    "positive_even_number = random.randrange(2, 101, 2)\n",
    "negative_even_number = random.randrange(-100, -1, 2)\n",
    "\n",
    "positive_odd_number = random.randrange(1, 100, 2)\n",
    "negative_odd_number = random.randrange(-101, 0, 2)\n",
    "print(\"We now have some random numbers available for future exercises.\")\n",
    "print(\"The random positive even number is\", positive_even_number)\n",
    "print(\"The random positive odd nubmer is\", positive_odd_number)\n",
    "print(\"The random negative even number\", negative_even_number)\n",
    "print(\"The random negative odd number\", negative_odd_number)\n"
   ]
  },
  {
   "cell_type": "code",
   "execution_count": 13,
   "metadata": {},
   "outputs": [
    {
     "name": "stdout",
     "output_type": "stream",
     "text": [
      "The example function definition ran appropriately\n"
     ]
    }
   ],
   "source": [
    "# Example function defintion:\n",
    "# Write a say_hello function that adds the string \"Hello, \" to the beginning and \"!\" to the end of any given input.\n",
    "def say_hello(name):\n",
    "    return \"Hello, \" + name + \"!\"\n",
    "\n",
    "assert say_hello(\"Jane\") == \"Hello, Jane!\", \"Double check the inputs and data types\"\n",
    "assert say_hello(\"Pat\") == \"Hello, Pat!\", \"Double check the inputs and data types\"\n",
    "assert say_hello(\"Astrud\") == \"Hello, Astrud!\", \"Double check the inputs and data types\"\n",
    "print(\"The example function definition ran appropriately\")"
   ]
  },
  {
   "cell_type": "code",
   "execution_count": 14,
   "metadata": {},
   "outputs": [
    {
     "name": "stdout",
     "output_type": "stream",
     "text": [
      "The plus_two assertions executed appropriately... The second function definition example executed appropriately.\n"
     ]
    }
   ],
   "source": [
    "# Another example function definition:\n",
    "# This plus_two function takes in a variable and adds 2 to it.\n",
    "def plus_two(number):\n",
    "    return number + 2\n",
    "\n",
    "assert plus_two(3) == 5\n",
    "assert plus_two(0) == 2\n",
    "assert plus_two(-2) == 0\n",
    "print(\"The plus_two assertions executed appropriately... The second function definition example executed appropriately.\")"
   ]
  },
  {
   "cell_type": "code",
   "execution_count": 15,
   "metadata": {},
   "outputs": [
    {
     "name": "stdout",
     "output_type": "stream",
     "text": [
      "Exercise 11 is correct.\n"
     ]
    }
   ],
   "source": [
    "# Exercise 11\n",
    "# Write a function definition for a function named add_one that takes in a number and returns that number plus one.\n",
    "\n",
    "def add_one(number):\n",
    "    return number + 1\n",
    "\n",
    "    \n",
    "assert add_one(2) == 3, \"Ensure that the function is defined, named properly, and returns the correct value\"\n",
    "assert add_one(0) == 1, \"Zero plus one is one.\"\n",
    "assert add_one(positive_even_number) == positive_even_number + 1, \"Ensure that the function is defined, named properly, and returns the correct value\"\n",
    "assert add_one(negative_odd_number) == negative_odd_number + 1, \"Ensure that the function is defined, named properly, and returns the correct value\"\n",
    "print(\"Exercise 11 is correct.\") "
   ]
  },
  {
   "cell_type": "code",
   "execution_count": 16,
   "metadata": {},
   "outputs": [
    {
     "name": "stdout",
     "output_type": "stream",
     "text": [
      "Exercise 12 is correct.\n"
     ]
    }
   ],
   "source": [
    "# Exercise 12\n",
    "# Write a function definition named is_positive that takes in a number and returns True or False if that number is positive.\n",
    "\n",
    "def is_positive(number):\n",
    "    if number >=0 :\n",
    "        return True\n",
    "    return False\n",
    "\n",
    "assert is_positive(positive_odd_number) == True, \"Ensure that the function is defined, named properly, and returns the correct value\"\n",
    "assert is_positive(positive_even_number) == True, \"Ensure that the function is defined, named properly, and returns the correct value\"\n",
    "assert is_positive(negative_odd_number) == False, \"Ensure that the function is defined, named properly, and returns the correct value\"\n",
    "assert is_positive(negative_even_number) == False, \"Ensure that the function is defined, named properly, and returns the correct value\"\n",
    "print(\"Exercise 12 is correct.\")"
   ]
  },
  {
   "cell_type": "code",
   "execution_count": 17,
   "metadata": {},
   "outputs": [
    {
     "name": "stdout",
     "output_type": "stream",
     "text": [
      "Exercise 13 is correct.\n"
     ]
    }
   ],
   "source": [
    "# Exercise 13\n",
    "# Write a function definition named is_negative that takes in a number and returns True or False if that number is negative.\n",
    "\n",
    "def is_negative(number):\n",
    "    if number < 0 :\n",
    "        return True\n",
    "    return False\n",
    "\n",
    "assert is_negative(positive_odd_number) == False, \"Ensure that the function is defined, named properly, and returns the correct value\"\n",
    "assert is_negative(positive_even_number) == False, \"Ensure that the function is defined, named properly, and returns the correct value\"\n",
    "assert is_negative(negative_odd_number) == True, \"Ensure that the function is defined, named properly, and returns the correct value\"\n",
    "assert is_negative(negative_even_number) == True, \"Ensure that the function is defined, named properly, and returns the correct value\"\n",
    "print(\"Exercise 13 is correct.\")"
   ]
  },
  {
   "cell_type": "code",
   "execution_count": 18,
   "metadata": {},
   "outputs": [
    {
     "name": "stdout",
     "output_type": "stream",
     "text": [
      "Exercise 14 is correct.\n"
     ]
    }
   ],
   "source": [
    "# Exercise 14\n",
    "# Write a function definition named is_odd that takes in a number and returns True or False if that number is odd.\n",
    "\n",
    "def is_odd(number):\n",
    "    if number % 2 == 0:\n",
    "        return False\n",
    "    return True\n",
    "\n",
    "assert is_odd(positive_odd_number) == True, \"Ensure that the function is defined, named properly, and returns the correct value\"\n",
    "assert is_odd(positive_even_number) == False, \"Ensure that the function is defined, named properly, and returns the correct value\"\n",
    "assert is_odd(negative_odd_number) == True, \"Ensure that the function is defined, named properly, and returns the correct value\"\n",
    "assert is_odd(negative_even_number) == False, \"Ensure that the function is defined, named properly, and returns the correct value\"\n",
    "print(\"Exercise 14 is correct.\")"
   ]
  },
  {
   "cell_type": "code",
   "execution_count": 19,
   "metadata": {},
   "outputs": [
    {
     "name": "stdout",
     "output_type": "stream",
     "text": [
      "Exercise 15 is correct.\n"
     ]
    }
   ],
   "source": [
    "# Exercise 15\n",
    "# Write a function definition named is_even that takes in a number and returns True or False if that number is even.\n",
    "\n",
    "def is_even(number):\n",
    "    if number % 2 == 0:\n",
    "        return True\n",
    "    return False\n",
    "\n",
    "assert is_even(2) == True, \"Ensure that the function is defined, named properly, and returns the correct value\"\n",
    "assert is_even(positive_odd_number) == False, \"Ensure that the function is defined, named properly, and returns the correct value\"\n",
    "assert is_even(positive_even_number) == True, \"Ensure that the function is defined, named properly, and returns the correct value\"\n",
    "assert is_even(negative_odd_number) == False, \"Ensure that the function is defined, named properly, and returns the correct value\"\n",
    "assert is_even(negative_even_number) == True, \"Ensure that the function is defined, named properly, and returns the correct value\"\n",
    "print(\"Exercise 15 is correct.\")"
   ]
  },
  {
   "cell_type": "code",
   "execution_count": 20,
   "metadata": {},
   "outputs": [
    {
     "name": "stdout",
     "output_type": "stream",
     "text": [
      "Exercise 16 is correct.\n"
     ]
    }
   ],
   "source": [
    "# Exercise 16\n",
    "# Write a function definition named identity that takes in any argument and returns that argument's value. Don't overthink this one!\n",
    "def identity(x):\n",
    "    return x\n",
    "\n",
    "assert identity(fruits) == fruits, \"Ensure that the function is defined, named properly, and returns the correct value\"\n",
    "assert identity(vegetables) == vegetables, \"Ensure that the function is defined, named properly, and returns the correct value\"\n",
    "assert identity(positive_odd_number) == positive_odd_number, \"Ensure that the function is defined, named properly, and returns the correct value\"\n",
    "assert identity(positive_even_number) == positive_even_number, \"Ensure that the function is defined, named properly, and returns the correct value\"\n",
    "assert identity(negative_odd_number) == negative_odd_number, \"Ensure that the function is defined, named properly, and returns the correct value\"\n",
    "assert identity(negative_even_number) == negative_even_number, \"Ensure that the function is defined, named properly, and returns the correct value\"\n",
    "print(\"Exercise 16 is correct.\")"
   ]
  },
  {
   "cell_type": "code",
   "execution_count": 21,
   "metadata": {},
   "outputs": [
    {
     "name": "stdout",
     "output_type": "stream",
     "text": [
      "Exercise 17 is correct.\n"
     ]
    }
   ],
   "source": [
    "# Exercise 17\n",
    "# Write a function definition named is_positive_odd that takes in a number and returns True or False if the value is both greater than zero and odd\n",
    "def is_positive_odd(number):\n",
    "    if number >= 0 and number % 2 != 0:\n",
    "        return True\n",
    "    return False\n",
    "\n",
    "\n",
    "assert is_positive_odd(3) == True, \"Double check your syntax and logic\" \n",
    "assert is_positive_odd(positive_odd_number) == True, \"Double check your syntax and logic\"\n",
    "assert is_positive_odd(positive_even_number) == False, \"Double check your syntax and logic\"\n",
    "assert is_positive_odd(negative_odd_number) == False, \"Double check your syntax and logic\"\n",
    "assert is_positive_odd(negative_even_number) == False, \"Double check your syntax and logic\"\n",
    "print(\"Exercise 17 is correct.\")"
   ]
  },
  {
   "cell_type": "code",
   "execution_count": 22,
   "metadata": {},
   "outputs": [
    {
     "name": "stdout",
     "output_type": "stream",
     "text": [
      "Exercise 18 is correct.\n"
     ]
    }
   ],
   "source": [
    "# Exercise 18\n",
    "# Write a function definition named is_positive_even that takes in a number and returns True or False if the value is both greater than zero and even\n",
    "def is_positive_even(number):\n",
    "    if number >= 0 and number % 2 == 0:\n",
    "        return True\n",
    "    return False\n",
    "\n",
    "\n",
    "assert is_positive_even(4) == True, \"Double check your syntax and logic\" \n",
    "assert is_positive_even(positive_odd_number) == False, \"Double check your syntax and logic\"\n",
    "assert is_positive_even(positive_even_number) == True, \"Double check your syntax and logic\"\n",
    "assert is_positive_even(negative_odd_number) == False, \"Double check your syntax and logic\"\n",
    "assert is_positive_even(negative_even_number) == False, \"Double check your syntax and logic\"\n",
    "print(\"Exercise 18 is correct.\")"
   ]
  },
  {
   "cell_type": "code",
   "execution_count": 23,
   "metadata": {},
   "outputs": [
    {
     "name": "stdout",
     "output_type": "stream",
     "text": [
      "Exercise 19 is correct.\n"
     ]
    }
   ],
   "source": [
    "# Exercise 19\n",
    "# Write a function definition named is_negative_odd that takes in a number and returns True or False if the value is both less \n",
    "# than zero and odd.\n",
    "def is_negative_odd(number):\n",
    "    if number < 0 and number % 2 != 0:\n",
    "        return True\n",
    "    return False\n",
    "\n",
    "assert is_negative_odd(-3) == True, \"Double check your syntax and logic\" \n",
    "assert is_negative_odd(positive_odd_number) == False, \"Double check your syntax and logic\"\n",
    "assert is_negative_odd(positive_even_number) == False, \"Double check your syntax and logic\"\n",
    "assert is_negative_odd(negative_odd_number) == True, \"Double check your syntax and logic\"\n",
    "assert is_negative_odd(negative_even_number) == False, \"Double check your syntax and logic\"\n",
    "print(\"Exercise 19 is correct.\")\n"
   ]
  },
  {
   "cell_type": "code",
   "execution_count": 24,
   "metadata": {},
   "outputs": [
    {
     "name": "stdout",
     "output_type": "stream",
     "text": [
      "Exercise 20 is correct.\n"
     ]
    }
   ],
   "source": [
    "# Exercise 20\n",
    "# Write a function definition named is_negative_even that takes in a number and returns True or False if the value is both less than zero and even.\n",
    "\n",
    "def is_negative_even(number):\n",
    "    if number < 0 and number % 2 == 0:\n",
    "        return True\n",
    "    return False\n",
    "\n",
    "assert is_negative_even(-4) == True, \"Double check your syntax and logic\" \n",
    "assert is_negative_even(positive_odd_number) == False, \"Double check your syntax and logic\"\n",
    "assert is_negative_even(positive_even_number) == False, \"Double check your syntax and logic\"\n",
    "assert is_negative_even(negative_odd_number) == False, \"Double check your syntax and logic\"\n",
    "assert is_negative_even(negative_even_number) == True, \"Double check your syntax and logic\"\n",
    "print(\"Exercise 20 is correct.\")"
   ]
  },
  {
   "cell_type": "code",
   "execution_count": 25,
   "metadata": {},
   "outputs": [
    {
     "name": "stdout",
     "output_type": "stream",
     "text": [
      "Exercise 21 is correct.\n"
     ]
    }
   ],
   "source": [
    "# Exercise 21\n",
    "# Write a function definition named half that takes in a number and returns half the provided number.\n",
    "\n",
    "def half(number):\n",
    "    return number/2\n",
    "\n",
    "assert half(4) == 2\n",
    "assert half(5) == 2.5\n",
    "assert half(positive_odd_number) == positive_odd_number / 2\n",
    "assert half(positive_even_number) == positive_even_number / 2\n",
    "assert half(negative_odd_number) == negative_odd_number / 2\n",
    "assert half(negative_even_number) == negative_even_number / 2\n",
    "print(\"Exercise 21 is correct.\")"
   ]
  },
  {
   "cell_type": "code",
   "execution_count": 26,
   "metadata": {},
   "outputs": [
    {
     "name": "stdout",
     "output_type": "stream",
     "text": [
      "Exercise 22 is correct.\n"
     ]
    }
   ],
   "source": [
    "# Exercise 22\n",
    "# Write a function definition named double that takes in a number and returns double the provided number.\n",
    "def double(number):\n",
    "    return number * 2\n",
    "\n",
    "assert double(4) == 8\n",
    "assert double(5) == 10\n",
    "assert double(positive_odd_number) == positive_odd_number * 2\n",
    "assert double(positive_even_number) == positive_even_number * 2\n",
    "assert double(negative_odd_number) == negative_odd_number * 2\n",
    "assert double(negative_even_number) == negative_even_number * 2\n",
    "print(\"Exercise 22 is correct.\")"
   ]
  },
  {
   "cell_type": "code",
   "execution_count": 27,
   "metadata": {},
   "outputs": [
    {
     "name": "stdout",
     "output_type": "stream",
     "text": [
      "Exercise 23 is correct.\n"
     ]
    }
   ],
   "source": [
    "# Exercise 23\n",
    "# Write a function definition named triple that takes in a number and returns triple the provided number.\n",
    "def triple(number):\n",
    "    return number * 3\n",
    "\n",
    "assert triple(4) == 12\n",
    "assert triple(5) == 15\n",
    "assert triple(positive_odd_number) == positive_odd_number * 3\n",
    "assert triple(positive_even_number) == positive_even_number * 3\n",
    "assert triple(negative_odd_number) == negative_odd_number * 3\n",
    "assert triple(negative_even_number) == negative_even_number * 3\n",
    "print(\"Exercise 23 is correct.\")"
   ]
  },
  {
   "cell_type": "code",
   "execution_count": 28,
   "metadata": {},
   "outputs": [
    {
     "name": "stdout",
     "output_type": "stream",
     "text": [
      "Exercise 24 is correct.\n"
     ]
    }
   ],
   "source": [
    "# Exercise 24\n",
    "# Write a function definition named reverse_sign that takes in a number and returns the provided number but with the sign reversed.\n",
    "def reverse_sign(number):\n",
    "    return number * -1\n",
    "\n",
    "assert reverse_sign(4) == -4\n",
    "assert reverse_sign(-5) == 5\n",
    "assert reverse_sign(positive_odd_number) == positive_odd_number * -1\n",
    "assert reverse_sign(positive_even_number) == positive_even_number * -1\n",
    "assert reverse_sign(negative_odd_number) == negative_odd_number * -1\n",
    "assert reverse_sign(negative_even_number) == negative_even_number * -1\n",
    "print(\"Exercise 24 is correct.\")"
   ]
  },
  {
   "cell_type": "code",
   "execution_count": 29,
   "metadata": {},
   "outputs": [
    {
     "name": "stdout",
     "output_type": "stream",
     "text": [
      "Exercise 25 is correct.\n"
     ]
    }
   ],
   "source": [
    "# Exercise 25\n",
    "# Write a function definition named absolute_value that takes in a number and returns the absolute value of the provided number\n",
    "def absolute_value(number):\n",
    "    return abs(number)\n",
    "\n",
    "assert absolute_value(4) == 4\n",
    "assert absolute_value(-5) == 5\n",
    "assert absolute_value(positive_odd_number) == positive_odd_number\n",
    "assert absolute_value(positive_even_number) == positive_even_number\n",
    "assert absolute_value(negative_odd_number) == negative_odd_number * -1\n",
    "assert absolute_value(negative_even_number) == negative_even_number * -1\n",
    "print(\"Exercise 25 is correct.\")"
   ]
  },
  {
   "cell_type": "code",
   "execution_count": 30,
   "metadata": {},
   "outputs": [
    {
     "name": "stdout",
     "output_type": "stream",
     "text": [
      "Exercise 26 is correct.\n"
     ]
    }
   ],
   "source": [
    "# Exercise 26\n",
    "# Write a function definition named is_multiple_of_three that takes in a number and returns True or False if the number is evenly divisible by 3.\n",
    "def is_multiple_of_three(number):\n",
    "    if number % 3 == 0:\n",
    "        return True\n",
    "    return False\n",
    "\n",
    "assert is_multiple_of_three(3) == True\n",
    "assert is_multiple_of_three(15) == True\n",
    "assert is_multiple_of_three(9) == True\n",
    "assert is_multiple_of_three(4) == False\n",
    "assert is_multiple_of_three(10) == False\n",
    "print(\"Exercise 26 is correct.\")"
   ]
  },
  {
   "cell_type": "code",
   "execution_count": 31,
   "metadata": {},
   "outputs": [
    {
     "name": "stdout",
     "output_type": "stream",
     "text": [
      "Exercise 27 is correct.\n"
     ]
    }
   ],
   "source": [
    "# Exercise 27\n",
    "# Write a function definition named is_multiple_of_five that takes in a number and returns True or False if the number is evenly divisible by 5.\n",
    "def is_multiple_of_five(number):\n",
    "    if number % 5 == 0:\n",
    "        return True\n",
    "    return False\n",
    "\n",
    "assert is_multiple_of_five(3) == False\n",
    "assert is_multiple_of_five(15) == True\n",
    "assert is_multiple_of_five(9) == False\n",
    "assert is_multiple_of_five(4) == False\n",
    "assert is_multiple_of_five(10) == True\n",
    "print(\"Exercise 27 is correct.\")"
   ]
  },
  {
   "cell_type": "code",
   "execution_count": 32,
   "metadata": {},
   "outputs": [
    {
     "name": "stdout",
     "output_type": "stream",
     "text": [
      "Exercise 28 is correct.\n"
     ]
    }
   ],
   "source": [
    "# Exercise 28\n",
    "# Write a function definition named is_multiple_of_both_three_and_five that takes in a number and returns True or False if the number is evenly divisible by both 3 and 5.\n",
    "def is_multiple_of_both_three_and_five(number):\n",
    "    if is_multiple_of_five(number) == True and is_multiple_of_three(number) == True:\n",
    "        return True\n",
    "    return False\n",
    "\n",
    "\n",
    "assert is_multiple_of_both_three_and_five(15) == True\n",
    "assert is_multiple_of_both_three_and_five(45) == True\n",
    "assert is_multiple_of_both_three_and_five(3) == False\n",
    "assert is_multiple_of_both_three_and_five(9) == False\n",
    "assert is_multiple_of_both_three_and_five(4) == False\n",
    "print(\"Exercise 28 is correct.\")"
   ]
  },
  {
   "cell_type": "code",
   "execution_count": 33,
   "metadata": {},
   "outputs": [
    {
     "name": "stdout",
     "output_type": "stream",
     "text": [
      "Exercise 29 is correct.\n"
     ]
    }
   ],
   "source": [
    "# Exercise 29\n",
    "# Write a function definition named square that takes in a number and returns the number times itself.\n",
    "def square(number):\n",
    "    return number ** 2\n",
    "\n",
    "assert square(3) == 9\n",
    "assert square(2) == 4\n",
    "assert square(9) == 81\n",
    "assert square(positive_odd_number) == positive_odd_number * positive_odd_number\n",
    "print(\"Exercise 29 is correct.\")"
   ]
  },
  {
   "cell_type": "code",
   "execution_count": 34,
   "metadata": {},
   "outputs": [
    {
     "name": "stdout",
     "output_type": "stream",
     "text": [
      "Exercise 30 is correct.\n"
     ]
    }
   ],
   "source": [
    "# Exercise 30\n",
    "# Write a function definition named add that takes in two numbers and returns the sum.\n",
    "def add(a,b):\n",
    "    return a + b\n",
    "\n",
    "assert add(3, 2) == 5\n",
    "assert add(10, -2) == 8\n",
    "assert add(5, 7) == 12\n",
    "print(\"Exercise 30 is correct.\")"
   ]
  },
  {
   "cell_type": "code",
   "execution_count": 35,
   "metadata": {},
   "outputs": [
    {
     "name": "stdout",
     "output_type": "stream",
     "text": [
      "Exercise 31 is correct.\n"
     ]
    }
   ],
   "source": [
    "# Exercise 31\n",
    "# Write a function definition named cube that takes in a number and returns the number times itself, times itself.\n",
    "def cube(number):\n",
    "    return number ** 3\n",
    "\n",
    "assert cube(3) == 27\n",
    "assert cube(2) == 8\n",
    "assert cube(5) == 125\n",
    "assert cube(positive_odd_number) == positive_odd_number * positive_odd_number * positive_odd_number\n",
    "print(\"Exercise 31 is correct.\")"
   ]
  },
  {
   "cell_type": "code",
   "execution_count": 36,
   "metadata": {},
   "outputs": [
    {
     "name": "stdout",
     "output_type": "stream",
     "text": [
      "Exercise 32 is correct.\n"
     ]
    }
   ],
   "source": [
    "# Exercise 32\n",
    "# Write a function definition named square_root that takes in a number and returns the square root of the provided number\n",
    "def square_root(number):\n",
    "    return number ** .5\n",
    "\n",
    "assert square_root(4) == 2.0\n",
    "assert square_root(64) == 8.0\n",
    "assert square_root(81) == 9.0\n",
    "print(\"Exercise 32 is correct.\")"
   ]
  },
  {
   "cell_type": "code",
   "execution_count": 37,
   "metadata": {},
   "outputs": [
    {
     "name": "stdout",
     "output_type": "stream",
     "text": [
      "Exercise 33 is correct.\n"
     ]
    }
   ],
   "source": [
    "# Exercise 33\n",
    "# Write a function definition named subtract that takes in two numbers and returns the first minus the second argument.\n",
    "def subtract(a,b):\n",
    "    return a - b\n",
    "\n",
    "assert subtract(8, 6) == 2\n",
    "assert subtract(27, 4) == 23\n",
    "assert subtract(12, 2) == 10\n",
    "print(\"Exercise 33 is correct.\")"
   ]
  },
  {
   "cell_type": "code",
   "execution_count": 38,
   "metadata": {},
   "outputs": [
    {
     "name": "stdout",
     "output_type": "stream",
     "text": [
      "Exercise 34 is correct.\n"
     ]
    }
   ],
   "source": [
    "# Exercise 34\n",
    "# Write a function definition named multiply that takes in two numbers and returns the first times the second argument.\n",
    "def multiply(a,b):\n",
    "    return a * b\n",
    "\n",
    "assert multiply(2, 1) == 2\n",
    "assert multiply(3, 5) == 15\n",
    "assert multiply(5, 2) == 10\n",
    "print(\"Exercise 34 is correct.\")"
   ]
  },
  {
   "cell_type": "code",
   "execution_count": 39,
   "metadata": {},
   "outputs": [
    {
     "name": "stdout",
     "output_type": "stream",
     "text": [
      "Exercise 35 is correct.\n"
     ]
    }
   ],
   "source": [
    "# Exercise 35\n",
    "# Write a function definition named divide that takes in two numbers and returns the first argument divided by the second argument.\n",
    "def divide(a,b):\n",
    "    return a/b\n",
    "\n",
    "assert divide(27, 9) == 3\n",
    "assert divide(15, 3) == 5\n",
    "assert divide(5, 2) == 2.5\n",
    "assert divide(10, 2) == 5\n",
    "print(\"Exercise 35 is correct.\")"
   ]
  },
  {
   "cell_type": "code",
   "execution_count": 40,
   "metadata": {},
   "outputs": [
    {
     "name": "stdout",
     "output_type": "stream",
     "text": [
      "Exercise 36 is correct.\n"
     ]
    }
   ],
   "source": [
    "# Exercise 36\n",
    "# Write a function definition named quotient that takes in two numbers and returns only the quotient \n",
    "# first argument quotient by the second argument.\n",
    "def quotient(a,b):\n",
    "    return a // b\n",
    "\n",
    "assert quotient(27, 9) == 3\n",
    "assert quotient(5, 2) == 2\n",
    "assert quotient(10, 3) == 3\n",
    "print(\"Exercise 36 is correct.\")"
   ]
  },
  {
   "cell_type": "code",
   "execution_count": 41,
   "metadata": {},
   "outputs": [
    {
     "name": "stdout",
     "output_type": "stream",
     "text": [
      "Exercise 37 is correct.\n"
     ]
    }
   ],
   "source": [
    "# Exercise 37\n",
    "# Write a function definition named remainder that takes in two numbers and returns the remainder of first argument divided by the second argument.\n",
    "def remainder(a,b):\n",
    "    return a % b\n",
    "\n",
    "assert remainder(3, 3) == 0\n",
    "assert remainder(5, 2) == 1\n",
    "assert remainder(7, 5) == 2\n",
    "print(\"Exercise 37 is correct.\")"
   ]
  },
  {
   "cell_type": "code",
   "execution_count": 42,
   "metadata": {},
   "outputs": [
    {
     "name": "stdout",
     "output_type": "stream",
     "text": [
      "Exercise 38 is correct.\n"
     ]
    }
   ],
   "source": [
    "# Exercise 38\n",
    "# Write a function definition named sum_of_squares that takes in two numbers, squares each number, then returns the sum of both squares.\n",
    "def sum_of_squares(a,b):\n",
    "    return square(a) + square(b)\n",
    "\n",
    "assert sum_of_squares(3, 2) == 13\n",
    "assert sum_of_squares(5, 2) == 29\n",
    "assert sum_of_squares(2, 4) == 20\n",
    "print(\"Exercise 38 is correct.\")"
   ]
  },
  {
   "cell_type": "code",
   "execution_count": 43,
   "metadata": {},
   "outputs": [
    {
     "name": "stdout",
     "output_type": "stream",
     "text": [
      "Exercise 39 is correct.\n"
     ]
    }
   ],
   "source": [
    "# Exercise 39\n",
    "# Write a function definition named times_two_plus_three that takes in a number, multiplies it by two, adds 3 and returns the result.\n",
    "def times_two_plus_three(number):\n",
    "    return number * 2 + 3\n",
    "\n",
    "assert times_two_plus_three(0) == 3\n",
    "assert times_two_plus_three(1) == 5\n",
    "assert times_two_plus_three(2) == 7\n",
    "assert times_two_plus_three(3) == 9\n",
    "assert times_two_plus_three(5) == 13\n",
    "print(\"Exercise 39 is correct.\")"
   ]
  },
  {
   "cell_type": "code",
   "execution_count": 44,
   "metadata": {},
   "outputs": [
    {
     "name": "stdout",
     "output_type": "stream",
     "text": [
      "Exercise 40 is correct.\n"
     ]
    }
   ],
   "source": [
    "# Exercise 40\n",
    "# Write a function definition named area_of_rectangle that takes in two numbers and returns the product.\n",
    "def area_of_rectangle(a,b):\n",
    "    return a * b\n",
    "\n",
    "\n",
    "assert area_of_rectangle(1, 3) == 3\n",
    "assert area_of_rectangle(5, 2) == 10\n",
    "assert area_of_rectangle(2, 7) == 14\n",
    "assert area_of_rectangle(5.3, 10.3) == 54.59\n",
    "print(\"Exercise 40 is correct.\")"
   ]
  },
  {
   "cell_type": "code",
   "execution_count": 45,
   "metadata": {},
   "outputs": [
    {
     "name": "stdout",
     "output_type": "stream",
     "text": [
      "Exercise 41 is correct.\n"
     ]
    }
   ],
   "source": [
    "import math\n",
    "# Exercise 41\n",
    "# Write a function definition named area_of_circle that takes in a number representing a circle's radius and \n",
    "# returns the area of the circle\n",
    "\n",
    "def area_of_circle(radius):\n",
    "    return math.pi * radius ** 2\n",
    "\n",
    "\n",
    "assert area_of_circle(3) == 28.274333882308138\n",
    "assert area_of_circle(5) == 78.53981633974483\n",
    "assert area_of_circle(7) == 153.93804002589985\n",
    "print(\"Exercise 41 is correct.\")"
   ]
  },
  {
   "cell_type": "code",
   "execution_count": 46,
   "metadata": {},
   "outputs": [
    {
     "name": "stdout",
     "output_type": "stream",
     "text": [
      "Exercise 42 is correct.\n"
     ]
    }
   ],
   "source": [
    "import math\n",
    "# Exercise 42\n",
    "# Write a function definition named circumference that takes in a number representing a circle's radius and returns the circumference.\n",
    "def circumference(radius):\n",
    "    return 2 * math.pi * radius\n",
    "\n",
    "assert circumference(3) == 18.84955592153876\n",
    "assert circumference(5) == 31.41592653589793\n",
    "assert circumference(7) == 43.982297150257104\n",
    "print(\"Exercise 42 is correct.\")"
   ]
  },
  {
   "cell_type": "markdown",
   "metadata": {},
   "source": [
    "## Functions working with strings"
   ]
  },
  {
   "cell_type": "code",
   "execution_count": 47,
   "metadata": {},
   "outputs": [
    {
     "name": "stdout",
     "output_type": "stream",
     "text": [
      "a\n"
     ]
    }
   ],
   "source": [
    "letter = 'a'\n",
    "letter.upper()\n",
    "print(letter)"
   ]
  },
  {
   "cell_type": "code",
   "execution_count": 48,
   "metadata": {},
   "outputs": [
    {
     "name": "stdout",
     "output_type": "stream",
     "text": [
      "Exercise 43 is correct.\n"
     ]
    }
   ],
   "source": [
    "# Exercise 43\n",
    "# Write a function definition named is_vowel that takes in value and returns True if the value is a, e, i, o, u in upper or lower case.\n",
    "def is_vowel(letter):\n",
    "    vowels = ['a', 'e', 'i', 'o', 'u']\n",
    "    letter = letter.lower()\n",
    "    for item in vowels:\n",
    "        if letter == item:\n",
    "            return True\n",
    "    return False\n",
    "\n",
    "assert is_vowel(\"a\") == True\n",
    "assert is_vowel(\"U\") == True\n",
    "assert is_vowel(\"banana\") == False\n",
    "assert is_vowel(\"Q\") == False\n",
    "assert is_vowel(\"y\") == False\n",
    "print(\"Exercise 43 is correct.\")"
   ]
  },
  {
   "cell_type": "code",
   "execution_count": 49,
   "metadata": {},
   "outputs": [
    {
     "name": "stdout",
     "output_type": "stream",
     "text": [
      "Exercise 44 is correct.\n"
     ]
    }
   ],
   "source": [
    "# Exercise 44\n",
    "# Write a function definition named has_vowels that takes in value and returns True if the string contains any vowels.\n",
    "def has_vowels(word):\n",
    "    for letters in word:\n",
    "        if is_vowel(letters) == True:\n",
    "            return True\n",
    "    return False\n",
    "\n",
    "\n",
    "assert has_vowels(\"banana\") == True\n",
    "assert has_vowels(\"ubuntu\") == True\n",
    "assert has_vowels(\"QQQQ\") == False\n",
    "assert has_vowels(\"wyrd\") == False\n",
    "print(\"Exercise 44 is correct.\")"
   ]
  },
  {
   "cell_type": "code",
   "execution_count": 50,
   "metadata": {},
   "outputs": [
    {
     "name": "stdout",
     "output_type": "stream",
     "text": [
      "Exercise 45 is correct.\n"
     ]
    }
   ],
   "source": [
    "# Exercise 45\n",
    "# Write a function definition named count_vowels that takes in value and returns the count of the \n",
    "# number of vowels in a sequence.\n",
    "def count_vowels(word):\n",
    "    count = 0\n",
    "    if has_vowels(word) == True:\n",
    "        for letter in word:\n",
    "            if is_vowel(letter) == True:\n",
    "                count += 1\n",
    "    return count\n",
    "        \n",
    "assert count_vowels(\"banana\") == 3\n",
    "assert count_vowels(\"ubuntu\") == 3\n",
    "assert count_vowels(\"mango\") == 2\n",
    "assert count_vowels(\"QQQQ\") == 0\n",
    "assert count_vowels(\"wyrd\") == 0\n",
    "print(\"Exercise 45 is correct.\")"
   ]
  },
  {
   "cell_type": "code",
   "execution_count": 51,
   "metadata": {},
   "outputs": [
    {
     "name": "stdout",
     "output_type": "stream",
     "text": [
      "Help on class str in module builtins:\n",
      "\n",
      "class str(object)\n",
      " |  str(object='') -> str\n",
      " |  str(bytes_or_buffer[, encoding[, errors]]) -> str\n",
      " |  \n",
      " |  Create a new string object from the given object. If encoding or\n",
      " |  errors is specified, then the object must expose a data buffer\n",
      " |  that will be decoded using the given encoding and error handler.\n",
      " |  Otherwise, returns the result of object.__str__() (if defined)\n",
      " |  or repr(object).\n",
      " |  encoding defaults to sys.getdefaultencoding().\n",
      " |  errors defaults to 'strict'.\n",
      " |  \n",
      " |  Methods defined here:\n",
      " |  \n",
      " |  __add__(self, value, /)\n",
      " |      Return self+value.\n",
      " |  \n",
      " |  __contains__(self, key, /)\n",
      " |      Return key in self.\n",
      " |  \n",
      " |  __eq__(self, value, /)\n",
      " |      Return self==value.\n",
      " |  \n",
      " |  __format__(...)\n",
      " |      S.__format__(format_spec) -> str\n",
      " |      \n",
      " |      Return a formatted version of S as described by format_spec.\n",
      " |  \n",
      " |  __ge__(self, value, /)\n",
      " |      Return self>=value.\n",
      " |  \n",
      " |  __getattribute__(self, name, /)\n",
      " |      Return getattr(self, name).\n",
      " |  \n",
      " |  __getitem__(self, key, /)\n",
      " |      Return self[key].\n",
      " |  \n",
      " |  __getnewargs__(...)\n",
      " |  \n",
      " |  __gt__(self, value, /)\n",
      " |      Return self>value.\n",
      " |  \n",
      " |  __hash__(self, /)\n",
      " |      Return hash(self).\n",
      " |  \n",
      " |  __iter__(self, /)\n",
      " |      Implement iter(self).\n",
      " |  \n",
      " |  __le__(self, value, /)\n",
      " |      Return self<=value.\n",
      " |  \n",
      " |  __len__(self, /)\n",
      " |      Return len(self).\n",
      " |  \n",
      " |  __lt__(self, value, /)\n",
      " |      Return self<value.\n",
      " |  \n",
      " |  __mod__(self, value, /)\n",
      " |      Return self%value.\n",
      " |  \n",
      " |  __mul__(self, value, /)\n",
      " |      Return self*value.\n",
      " |  \n",
      " |  __ne__(self, value, /)\n",
      " |      Return self!=value.\n",
      " |  \n",
      " |  __new__(*args, **kwargs) from builtins.type\n",
      " |      Create and return a new object.  See help(type) for accurate signature.\n",
      " |  \n",
      " |  __repr__(self, /)\n",
      " |      Return repr(self).\n",
      " |  \n",
      " |  __rmod__(self, value, /)\n",
      " |      Return value%self.\n",
      " |  \n",
      " |  __rmul__(self, value, /)\n",
      " |      Return value*self.\n",
      " |  \n",
      " |  __sizeof__(...)\n",
      " |      S.__sizeof__() -> size of S in memory, in bytes\n",
      " |  \n",
      " |  __str__(self, /)\n",
      " |      Return str(self).\n",
      " |  \n",
      " |  capitalize(...)\n",
      " |      S.capitalize() -> str\n",
      " |      \n",
      " |      Return a capitalized version of S, i.e. make the first character\n",
      " |      have upper case and the rest lower case.\n",
      " |  \n",
      " |  casefold(...)\n",
      " |      S.casefold() -> str\n",
      " |      \n",
      " |      Return a version of S suitable for caseless comparisons.\n",
      " |  \n",
      " |  center(...)\n",
      " |      S.center(width[, fillchar]) -> str\n",
      " |      \n",
      " |      Return S centered in a string of length width. Padding is\n",
      " |      done using the specified fill character (default is a space)\n",
      " |  \n",
      " |  count(...)\n",
      " |      S.count(sub[, start[, end]]) -> int\n",
      " |      \n",
      " |      Return the number of non-overlapping occurrences of substring sub in\n",
      " |      string S[start:end].  Optional arguments start and end are\n",
      " |      interpreted as in slice notation.\n",
      " |  \n",
      " |  encode(...)\n",
      " |      S.encode(encoding='utf-8', errors='strict') -> bytes\n",
      " |      \n",
      " |      Encode S using the codec registered for encoding. Default encoding\n",
      " |      is 'utf-8'. errors may be given to set a different error\n",
      " |      handling scheme. Default is 'strict' meaning that encoding errors raise\n",
      " |      a UnicodeEncodeError. Other possible values are 'ignore', 'replace' and\n",
      " |      'xmlcharrefreplace' as well as any other name registered with\n",
      " |      codecs.register_error that can handle UnicodeEncodeErrors.\n",
      " |  \n",
      " |  endswith(...)\n",
      " |      S.endswith(suffix[, start[, end]]) -> bool\n",
      " |      \n",
      " |      Return True if S ends with the specified suffix, False otherwise.\n",
      " |      With optional start, test S beginning at that position.\n",
      " |      With optional end, stop comparing S at that position.\n",
      " |      suffix can also be a tuple of strings to try.\n",
      " |  \n",
      " |  expandtabs(...)\n",
      " |      S.expandtabs(tabsize=8) -> str\n",
      " |      \n",
      " |      Return a copy of S where all tab characters are expanded using spaces.\n",
      " |      If tabsize is not given, a tab size of 8 characters is assumed.\n",
      " |  \n",
      " |  find(...)\n",
      " |      S.find(sub[, start[, end]]) -> int\n",
      " |      \n",
      " |      Return the lowest index in S where substring sub is found,\n",
      " |      such that sub is contained within S[start:end].  Optional\n",
      " |      arguments start and end are interpreted as in slice notation.\n",
      " |      \n",
      " |      Return -1 on failure.\n",
      " |  \n",
      " |  format(...)\n",
      " |      S.format(*args, **kwargs) -> str\n",
      " |      \n",
      " |      Return a formatted version of S, using substitutions from args and kwargs.\n",
      " |      The substitutions are identified by braces ('{' and '}').\n",
      " |  \n",
      " |  format_map(...)\n",
      " |      S.format_map(mapping) -> str\n",
      " |      \n",
      " |      Return a formatted version of S, using substitutions from mapping.\n",
      " |      The substitutions are identified by braces ('{' and '}').\n",
      " |  \n",
      " |  index(...)\n",
      " |      S.index(sub[, start[, end]]) -> int\n",
      " |      \n",
      " |      Return the lowest index in S where substring sub is found, \n",
      " |      such that sub is contained within S[start:end].  Optional\n",
      " |      arguments start and end are interpreted as in slice notation.\n",
      " |      \n",
      " |      Raises ValueError when the substring is not found.\n",
      " |  \n",
      " |  isalnum(...)\n",
      " |      S.isalnum() -> bool\n",
      " |      \n",
      " |      Return True if all characters in S are alphanumeric\n",
      " |      and there is at least one character in S, False otherwise.\n",
      " |  \n",
      " |  isalpha(...)\n",
      " |      S.isalpha() -> bool\n",
      " |      \n",
      " |      Return True if all characters in S are alphabetic\n",
      " |      and there is at least one character in S, False otherwise.\n",
      " |  \n",
      " |  isdecimal(...)\n",
      " |      S.isdecimal() -> bool\n",
      " |      \n",
      " |      Return True if there are only decimal characters in S,\n",
      " |      False otherwise.\n",
      " |  \n",
      " |  isdigit(...)\n",
      " |      S.isdigit() -> bool\n",
      " |      \n",
      " |      Return True if all characters in S are digits\n",
      " |      and there is at least one character in S, False otherwise.\n",
      " |  \n",
      " |  isidentifier(...)\n",
      " |      S.isidentifier() -> bool\n",
      " |      \n",
      " |      Return True if S is a valid identifier according\n",
      " |      to the language definition.\n",
      " |      \n",
      " |      Use keyword.iskeyword() to test for reserved identifiers\n",
      " |      such as \"def\" and \"class\".\n",
      " |  \n",
      " |  islower(...)\n",
      " |      S.islower() -> bool\n",
      " |      \n",
      " |      Return True if all cased characters in S are lowercase and there is\n",
      " |      at least one cased character in S, False otherwise.\n",
      " |  \n",
      " |  isnumeric(...)\n",
      " |      S.isnumeric() -> bool\n",
      " |      \n",
      " |      Return True if there are only numeric characters in S,\n",
      " |      False otherwise.\n",
      " |  \n",
      " |  isprintable(...)\n",
      " |      S.isprintable() -> bool\n",
      " |      \n",
      " |      Return True if all characters in S are considered\n",
      " |      printable in repr() or S is empty, False otherwise.\n",
      " |  \n",
      " |  isspace(...)\n",
      " |      S.isspace() -> bool\n",
      " |      \n",
      " |      Return True if all characters in S are whitespace\n",
      " |      and there is at least one character in S, False otherwise.\n",
      " |  \n",
      " |  istitle(...)\n",
      " |      S.istitle() -> bool\n",
      " |      \n",
      " |      Return True if S is a titlecased string and there is at least one\n",
      " |      character in S, i.e. upper- and titlecase characters may only\n",
      " |      follow uncased characters and lowercase characters only cased ones.\n",
      " |      Return False otherwise.\n",
      " |  \n",
      " |  isupper(...)\n",
      " |      S.isupper() -> bool\n",
      " |      \n",
      " |      Return True if all cased characters in S are uppercase and there is\n",
      " |      at least one cased character in S, False otherwise.\n",
      " |  \n",
      " |  join(...)\n",
      " |      S.join(iterable) -> str\n",
      " |      \n",
      " |      Return a string which is the concatenation of the strings in the\n",
      " |      iterable.  The separator between elements is S.\n",
      " |  \n",
      " |  ljust(...)\n",
      " |      S.ljust(width[, fillchar]) -> str\n",
      " |      \n",
      " |      Return S left-justified in a Unicode string of length width. Padding is\n",
      " |      done using the specified fill character (default is a space).\n",
      " |  \n",
      " |  lower(...)\n",
      " |      S.lower() -> str\n",
      " |      \n",
      " |      Return a copy of the string S converted to lowercase.\n",
      " |  \n",
      " |  lstrip(...)\n",
      " |      S.lstrip([chars]) -> str\n",
      " |      \n",
      " |      Return a copy of the string S with leading whitespace removed.\n",
      " |      If chars is given and not None, remove characters in chars instead.\n",
      " |  \n",
      " |  partition(...)\n",
      " |      S.partition(sep) -> (head, sep, tail)\n",
      " |      \n",
      " |      Search for the separator sep in S, and return the part before it,\n",
      " |      the separator itself, and the part after it.  If the separator is not\n",
      " |      found, return S and two empty strings.\n",
      " |  \n",
      " |  replace(...)\n",
      " |      S.replace(old, new[, count]) -> str\n",
      " |      \n",
      " |      Return a copy of S with all occurrences of substring\n",
      " |      old replaced by new.  If the optional argument count is\n",
      " |      given, only the first count occurrences are replaced.\n",
      " |  \n",
      " |  rfind(...)\n",
      " |      S.rfind(sub[, start[, end]]) -> int\n",
      " |      \n",
      " |      Return the highest index in S where substring sub is found,\n",
      " |      such that sub is contained within S[start:end].  Optional\n",
      " |      arguments start and end are interpreted as in slice notation.\n",
      " |      \n",
      " |      Return -1 on failure.\n",
      " |  \n",
      " |  rindex(...)\n",
      " |      S.rindex(sub[, start[, end]]) -> int\n",
      " |      \n",
      " |      Return the highest index in S where substring sub is found,\n",
      " |      such that sub is contained within S[start:end].  Optional\n",
      " |      arguments start and end are interpreted as in slice notation.\n",
      " |      \n",
      " |      Raises ValueError when the substring is not found.\n",
      " |  \n",
      " |  rjust(...)\n",
      " |      S.rjust(width[, fillchar]) -> str\n",
      " |      \n",
      " |      Return S right-justified in a string of length width. Padding is\n",
      " |      done using the specified fill character (default is a space).\n",
      " |  \n",
      " |  rpartition(...)\n",
      " |      S.rpartition(sep) -> (head, sep, tail)\n",
      " |      \n",
      " |      Search for the separator sep in S, starting at the end of S, and return\n",
      " |      the part before it, the separator itself, and the part after it.  If the\n",
      " |      separator is not found, return two empty strings and S.\n",
      " |  \n",
      " |  rsplit(...)\n",
      " |      S.rsplit(sep=None, maxsplit=-1) -> list of strings\n",
      " |      \n",
      " |      Return a list of the words in S, using sep as the\n",
      " |      delimiter string, starting at the end of the string and\n",
      " |      working to the front.  If maxsplit is given, at most maxsplit\n",
      " |      splits are done. If sep is not specified, any whitespace string\n",
      " |      is a separator.\n",
      " |  \n",
      " |  rstrip(...)\n",
      " |      S.rstrip([chars]) -> str\n",
      " |      \n",
      " |      Return a copy of the string S with trailing whitespace removed.\n",
      " |      If chars is given and not None, remove characters in chars instead.\n",
      " |  \n",
      " |  split(...)\n",
      " |      S.split(sep=None, maxsplit=-1) -> list of strings\n",
      " |      \n",
      " |      Return a list of the words in S, using sep as the\n",
      " |      delimiter string.  If maxsplit is given, at most maxsplit\n",
      " |      splits are done. If sep is not specified or is None, any\n",
      " |      whitespace string is a separator and empty strings are\n",
      " |      removed from the result.\n",
      " |  \n",
      " |  splitlines(...)\n",
      " |      S.splitlines([keepends]) -> list of strings\n",
      " |      \n",
      " |      Return a list of the lines in S, breaking at line boundaries.\n",
      " |      Line breaks are not included in the resulting list unless keepends\n",
      " |      is given and true.\n",
      " |  \n",
      " |  startswith(...)\n",
      " |      S.startswith(prefix[, start[, end]]) -> bool\n",
      " |      \n",
      " |      Return True if S starts with the specified prefix, False otherwise.\n",
      " |      With optional start, test S beginning at that position.\n",
      " |      With optional end, stop comparing S at that position.\n",
      " |      prefix can also be a tuple of strings to try.\n",
      " |  \n",
      " |  strip(...)\n",
      " |      S.strip([chars]) -> str\n",
      " |      \n",
      " |      Return a copy of the string S with leading and trailing\n",
      " |      whitespace removed.\n",
      " |      If chars is given and not None, remove characters in chars instead.\n",
      " |  \n",
      " |  swapcase(...)\n",
      " |      S.swapcase() -> str\n",
      " |      \n",
      " |      Return a copy of S with uppercase characters converted to lowercase\n",
      " |      and vice versa.\n",
      " |  \n",
      " |  title(...)\n",
      " |      S.title() -> str\n",
      " |      \n",
      " |      Return a titlecased version of S, i.e. words start with title case\n",
      " |      characters, all remaining cased characters have lower case.\n",
      " |  \n",
      " |  translate(...)\n",
      " |      S.translate(table) -> str\n",
      " |      \n",
      " |      Return a copy of the string S in which each character has been mapped\n",
      " |      through the given translation table. The table must implement\n",
      " |      lookup/indexing via __getitem__, for instance a dictionary or list,\n",
      " |      mapping Unicode ordinals to Unicode ordinals, strings, or None. If\n",
      " |      this operation raises LookupError, the character is left untouched.\n",
      " |      Characters mapped to None are deleted.\n",
      " |  \n",
      " |  upper(...)\n",
      " |      S.upper() -> str\n",
      " |      \n",
      " |      Return a copy of S converted to uppercase.\n",
      " |  \n",
      " |  zfill(...)\n",
      " |      S.zfill(width) -> str\n",
      " |      \n",
      " |      Pad a numeric string S with zeros on the left, to fill a field\n",
      " |      of the specified width. The string S is never truncated.\n",
      " |  \n",
      " |  ----------------------------------------------------------------------\n",
      " |  Static methods defined here:\n",
      " |  \n",
      " |  maketrans(x, y=None, z=None, /)\n",
      " |      Return a translation table usable for str.translate().\n",
      " |      \n",
      " |      If there is only one argument, it must be a dictionary mapping Unicode\n",
      " |      ordinals (integers) or characters to Unicode ordinals, strings or None.\n",
      " |      Character keys will be then converted to ordinals.\n",
      " |      If there are two arguments, they must be strings of equal length, and\n",
      " |      in the resulting dictionary, each character in x will be mapped to the\n",
      " |      character at the same position in y. If there is a third argument, it\n",
      " |      must be a string, whose characters will be mapped to None in the result.\n",
      "\n",
      "No Python documentation found for \"<class 'str'>\".\n",
      "Use help() to get the interactive help utility.\n",
      "Use help(str) for help on the str class.\n",
      "\n"
     ]
    }
   ],
   "source": [
    "help(str)\n",
    "help(format(str))"
   ]
  },
  {
   "cell_type": "code",
   "execution_count": 52,
   "metadata": {},
   "outputs": [
    {
     "name": "stdout",
     "output_type": "stream",
     "text": [
      "Help on class list in module builtins:\n",
      "\n",
      "class list(object)\n",
      " |  list() -> new empty list\n",
      " |  list(iterable) -> new list initialized from iterable's items\n",
      " |  \n",
      " |  Methods defined here:\n",
      " |  \n",
      " |  __add__(self, value, /)\n",
      " |      Return self+value.\n",
      " |  \n",
      " |  __contains__(self, key, /)\n",
      " |      Return key in self.\n",
      " |  \n",
      " |  __delitem__(self, key, /)\n",
      " |      Delete self[key].\n",
      " |  \n",
      " |  __eq__(self, value, /)\n",
      " |      Return self==value.\n",
      " |  \n",
      " |  __ge__(self, value, /)\n",
      " |      Return self>=value.\n",
      " |  \n",
      " |  __getattribute__(self, name, /)\n",
      " |      Return getattr(self, name).\n",
      " |  \n",
      " |  __getitem__(...)\n",
      " |      x.__getitem__(y) <==> x[y]\n",
      " |  \n",
      " |  __gt__(self, value, /)\n",
      " |      Return self>value.\n",
      " |  \n",
      " |  __iadd__(self, value, /)\n",
      " |      Implement self+=value.\n",
      " |  \n",
      " |  __imul__(self, value, /)\n",
      " |      Implement self*=value.\n",
      " |  \n",
      " |  __init__(self, /, *args, **kwargs)\n",
      " |      Initialize self.  See help(type(self)) for accurate signature.\n",
      " |  \n",
      " |  __iter__(self, /)\n",
      " |      Implement iter(self).\n",
      " |  \n",
      " |  __le__(self, value, /)\n",
      " |      Return self<=value.\n",
      " |  \n",
      " |  __len__(self, /)\n",
      " |      Return len(self).\n",
      " |  \n",
      " |  __lt__(self, value, /)\n",
      " |      Return self<value.\n",
      " |  \n",
      " |  __mul__(self, value, /)\n",
      " |      Return self*value.\n",
      " |  \n",
      " |  __ne__(self, value, /)\n",
      " |      Return self!=value.\n",
      " |  \n",
      " |  __new__(*args, **kwargs) from builtins.type\n",
      " |      Create and return a new object.  See help(type) for accurate signature.\n",
      " |  \n",
      " |  __repr__(self, /)\n",
      " |      Return repr(self).\n",
      " |  \n",
      " |  __reversed__(...)\n",
      " |      L.__reversed__() -- return a reverse iterator over the list\n",
      " |  \n",
      " |  __rmul__(self, value, /)\n",
      " |      Return value*self.\n",
      " |  \n",
      " |  __setitem__(self, key, value, /)\n",
      " |      Set self[key] to value.\n",
      " |  \n",
      " |  __sizeof__(...)\n",
      " |      L.__sizeof__() -- size of L in memory, in bytes\n",
      " |  \n",
      " |  append(...)\n",
      " |      L.append(object) -> None -- append object to end\n",
      " |  \n",
      " |  clear(...)\n",
      " |      L.clear() -> None -- remove all items from L\n",
      " |  \n",
      " |  copy(...)\n",
      " |      L.copy() -> list -- a shallow copy of L\n",
      " |  \n",
      " |  count(...)\n",
      " |      L.count(value) -> integer -- return number of occurrences of value\n",
      " |  \n",
      " |  extend(...)\n",
      " |      L.extend(iterable) -> None -- extend list by appending elements from the iterable\n",
      " |  \n",
      " |  index(...)\n",
      " |      L.index(value, [start, [stop]]) -> integer -- return first index of value.\n",
      " |      Raises ValueError if the value is not present.\n",
      " |  \n",
      " |  insert(...)\n",
      " |      L.insert(index, object) -- insert object before index\n",
      " |  \n",
      " |  pop(...)\n",
      " |      L.pop([index]) -> item -- remove and return item at index (default last).\n",
      " |      Raises IndexError if list is empty or index is out of range.\n",
      " |  \n",
      " |  remove(...)\n",
      " |      L.remove(value) -> None -- remove first occurrence of value.\n",
      " |      Raises ValueError if the value is not present.\n",
      " |  \n",
      " |  reverse(...)\n",
      " |      L.reverse() -- reverse *IN PLACE*\n",
      " |  \n",
      " |  sort(...)\n",
      " |      L.sort(key=None, reverse=False) -> None -- stable sort *IN PLACE*\n",
      " |  \n",
      " |  ----------------------------------------------------------------------\n",
      " |  Data and other attributes defined here:\n",
      " |  \n",
      " |  __hash__ = None\n",
      "\n"
     ]
    }
   ],
   "source": [
    "help(list)"
   ]
  },
  {
   "cell_type": "code",
   "execution_count": 53,
   "metadata": {},
   "outputs": [
    {
     "name": "stdout",
     "output_type": "stream",
     "text": [
      "mngo\n"
     ]
    }
   ],
   "source": [
    "char = \"mango\"\n",
    "char.replace('a', \"\")\n",
    "print(char.replace('a',\"\"))"
   ]
  },
  {
   "cell_type": "code",
   "execution_count": 54,
   "metadata": {},
   "outputs": [
    {
     "name": "stdout",
     "output_type": "stream",
     "text": [
      "mng\n",
      "Exercise 46 is correct.\n"
     ]
    }
   ],
   "source": [
    "# Exercise 46**** Ran into difficulty***\n",
    "# Write a function definition named remove_vowels that takes in string and returns the string without any vowels\n",
    "def remove_vowels(word):\n",
    "    for letters in word:\n",
    "        if is_vowel(letters) == True:\n",
    "            word = word.replace(letters,\"\")\n",
    "    return word\n",
    "\n",
    "print(remove_vowels(\"mango\"))\n",
    "    \n",
    "\n",
    "assert remove_vowels(\"banana\") == \"bnn\"\n",
    "assert remove_vowels(\"ubuntu\") == \"bnt\"\n",
    "assert remove_vowels(\"mango\") == \"mng\"\n",
    "assert remove_vowels(\"QQQQ\") == \"QQQQ\"\n",
    "print(\"Exercise 46 is correct.\")"
   ]
  },
  {
   "cell_type": "code",
   "execution_count": 55,
   "metadata": {},
   "outputs": [
    {
     "name": "stdout",
     "output_type": "stream",
     "text": [
      "Exercise 47 is correct.\n"
     ]
    }
   ],
   "source": [
    "# Exercise 47\n",
    "# Write a function definition named starts_with_vowel that takes in string and True if the string starts with a vowel\n",
    "def starts_with_vowel(word):\n",
    "    if is_vowel(word[0]) == True:\n",
    "        return True\n",
    "    return False\n",
    "\n",
    "assert starts_with_vowel(\"ubuntu\") == True\n",
    "assert starts_with_vowel(\"banana\") == False\n",
    "assert starts_with_vowel(\"mango\") == False\n",
    "print(\"Exercise 47 is correct.\")"
   ]
  },
  {
   "cell_type": "code",
   "execution_count": 56,
   "metadata": {},
   "outputs": [
    {
     "name": "stdout",
     "output_type": "stream",
     "text": [
      "Exercise 48 is correct.\n"
     ]
    }
   ],
   "source": [
    "# Exercise 48\n",
    "# Write a function definition named ends_with_vowel that takes in string and True if the string ends with a vowel\n",
    "def ends_with_vowel(word):\n",
    "    if is_vowel(word[-1]) == True:\n",
    "        return True\n",
    "    return False\n",
    "\n",
    "\n",
    "assert ends_with_vowel(\"ubuntu\") == True\n",
    "assert ends_with_vowel(\"banana\") == True\n",
    "assert ends_with_vowel(\"mango\") == True\n",
    "assert ends_with_vowel(\"spinach\") == False\n",
    "print(\"Exercise 48 is correct.\")"
   ]
  },
  {
   "cell_type": "code",
   "execution_count": 57,
   "metadata": {},
   "outputs": [
    {
     "name": "stdout",
     "output_type": "stream",
     "text": [
      "Exercise 49 is correct.\n"
     ]
    }
   ],
   "source": [
    "# Exercise 49\n",
    "# Write a function definition named starts_and_ends_with_vowel that takes in string and returns True if the string starts and ends with a vowel\n",
    "def starts_and_ends_with_vowel(word):\n",
    "    if starts_with_vowel(word) == True and ends_with_vowel(word) == True:\n",
    "        return True\n",
    "    return False\n",
    "\n",
    "\n",
    "\n",
    "assert starts_and_ends_with_vowel(\"ubuntu\") == True\n",
    "assert starts_and_ends_with_vowel(\"banana\") == False\n",
    "assert starts_and_ends_with_vowel(\"mango\") == False\n",
    "print(\"Exercise 49 is correct.\")"
   ]
  },
  {
   "cell_type": "markdown",
   "metadata": {},
   "source": [
    "## Accessing List Elements"
   ]
  },
  {
   "cell_type": "code",
   "execution_count": 58,
   "metadata": {},
   "outputs": [
    {
     "name": "stdout",
     "output_type": "stream",
     "text": [
      "Exercise 50 is correct.\n"
     ]
    }
   ],
   "source": [
    "# Exercise 50\n",
    "# Write a function definition named first that takes in sequence and returns the first value of that sequence.\n",
    "\n",
    "def first(x):\n",
    "    return x[0]\n",
    "\n",
    "assert first(\"ubuntu\") == \"u\"\n",
    "assert first([1, 2, 3]) == 1\n",
    "assert first([\"python\", \"is\", \"awesome\"]) == \"python\"\n",
    "print(\"Exercise 50 is correct.\")"
   ]
  },
  {
   "cell_type": "code",
   "execution_count": 59,
   "metadata": {},
   "outputs": [
    {
     "name": "stdout",
     "output_type": "stream",
     "text": [
      "Exercise 51 is correct.\n"
     ]
    }
   ],
   "source": [
    "# Exercise 51\n",
    "# Write a function definition named second that takes in sequence and returns the second value of that sequence.\n",
    "\n",
    "def second(x):\n",
    "    return x[1]\n",
    "\n",
    "assert second(\"ubuntu\") == \"b\"\n",
    "assert second([1, 2, 3]) == 2\n",
    "assert second([\"python\", \"is\", \"awesome\"]) == \"is\"\n",
    "print(\"Exercise 51 is correct.\")"
   ]
  },
  {
   "cell_type": "code",
   "execution_count": 60,
   "metadata": {},
   "outputs": [
    {
     "name": "stdout",
     "output_type": "stream",
     "text": [
      "Exercise 52 is correct.\n"
     ]
    }
   ],
   "source": [
    "# Exercise 52\n",
    "# Write a function definition named third that takes in sequence and returns the third value of that sequence.\n",
    "def third(x):\n",
    "    return x[2]\n",
    "\n",
    "assert third(\"ubuntu\") == \"u\"\n",
    "assert third([1, 2, 3]) == 3\n",
    "assert third([\"python\", \"is\", \"awesome\"]) == \"awesome\"\n",
    "print(\"Exercise 52 is correct.\")"
   ]
  },
  {
   "cell_type": "code",
   "execution_count": 61,
   "metadata": {},
   "outputs": [
    {
     "name": "stdout",
     "output_type": "stream",
     "text": [
      "Exercise 53 is correct.\n"
     ]
    }
   ],
   "source": [
    "# Exercise 53\n",
    "# Write a function definition named forth that takes in sequence and returns the forth value of that sequence.\n",
    "def forth(x):\n",
    "    return x[3]\n",
    "\n",
    "assert forth(\"ubuntu\") == \"n\"\n",
    "assert forth([1, 2, 3, 4]) == 4\n",
    "assert forth([\"python\", \"is\", \"awesome\", \"right?\"]) == \"right?\"\n",
    "print(\"Exercise 53 is correct.\")"
   ]
  },
  {
   "cell_type": "code",
   "execution_count": 62,
   "metadata": {},
   "outputs": [
    {
     "name": "stdout",
     "output_type": "stream",
     "text": [
      "Exercise 54 is correct.\n"
     ]
    }
   ],
   "source": [
    "# Exercise 54\n",
    "# Write a function definition named last that takes in sequence and returns the last value of that sequence.\n",
    "def last(x):\n",
    "    return x[-1]\n",
    "\n",
    "assert last(\"ubuntu\") == \"u\"\n",
    "assert last([1, 2, 3, 4]) == 4\n",
    "assert last([\"python\", \"is\", \"awesome\"]) == \"awesome\"\n",
    "assert last([\"kiwi\", \"mango\", \"guava\"]) == \"guava\"\n",
    "print(\"Exercise 54 is correct.\")"
   ]
  },
  {
   "cell_type": "code",
   "execution_count": 63,
   "metadata": {},
   "outputs": [
    {
     "name": "stdout",
     "output_type": "stream",
     "text": [
      "Exercise 55 is correct.\n"
     ]
    }
   ],
   "source": [
    "# Exercise 55\n",
    "# Write a function definition named second_to_last that takes in sequence and returns \n",
    "#the second to last value of that sequence.\n",
    "def second_to_last(x):\n",
    "    return x[-2]\n",
    "    \n",
    "\n",
    "assert second_to_last(\"ubuntu\") == \"t\"\n",
    "assert second_to_last([1, 2, 3, 4]) == 3\n",
    "assert second_to_last([\"python\", \"is\", \"awesome\"]) == \"is\"\n",
    "assert second_to_last([\"kiwi\", \"mango\", \"guava\"]) == \"mango\"\n",
    "print(\"Exercise 55 is correct.\")"
   ]
  },
  {
   "cell_type": "code",
   "execution_count": 64,
   "metadata": {},
   "outputs": [
    {
     "name": "stdout",
     "output_type": "stream",
     "text": [
      "Exercise 56 is correct.\n"
     ]
    }
   ],
   "source": [
    "# Exercise 56\n",
    "# Write a function definition named third_to_last that takes in sequence and returns the third to last value of that sequence.\n",
    "def third_to_last(x):\n",
    "    return x[-3]\n",
    "\n",
    "\n",
    "assert third_to_last(\"ubuntu\") == \"n\"\n",
    "assert third_to_last([1, 2, 3, 4]) == 2\n",
    "assert third_to_last([\"python\", \"is\", \"awesome\"]) == \"python\"\n",
    "assert third_to_last([\"strawberry\", \"kiwi\", \"mango\", \"guava\"]) == \"kiwi\"\n",
    "print(\"Exercise 56 is correct.\")"
   ]
  },
  {
   "cell_type": "code",
   "execution_count": 65,
   "metadata": {},
   "outputs": [
    {
     "name": "stdout",
     "output_type": "stream",
     "text": [
      "Exercise 57 is correct.\n"
     ]
    }
   ],
   "source": [
    "# Exercise 57\n",
    "# Write a function definition named first_and_second that takes in sequence and returns the first and second value of that sequence as a list\n",
    "def first_and_second(x):\n",
    "    return [x[0],x[1]]\n",
    "\n",
    "assert first_and_second([1, 2, 3, 4]) == [1, 2]\n",
    "assert first_and_second([\"python\", \"is\", \"awesome\"]) == [\"python\", \"is\"]\n",
    "assert first_and_second([\"strawberry\", \"kiwi\", \"mango\", \"guava\"]) == [\"strawberry\", \"kiwi\"]\n",
    "print(\"Exercise 57 is correct.\")"
   ]
  },
  {
   "cell_type": "code",
   "execution_count": 66,
   "metadata": {},
   "outputs": [
    {
     "name": "stdout",
     "output_type": "stream",
     "text": [
      "[1, 3]\n"
     ]
    }
   ],
   "source": [
    "a = first_and_second([1,3])\n",
    "print(a)"
   ]
  },
  {
   "cell_type": "code",
   "execution_count": 67,
   "metadata": {},
   "outputs": [
    {
     "name": "stdout",
     "output_type": "stream",
     "text": [
      "Exercise 58 is correct.\n"
     ]
    }
   ],
   "source": [
    "# Exercise 58\n",
    "# Write a function definition named first_and_last that takes in sequence and returns the first and last value of that sequence as a list\n",
    "def first_and_last(x):\n",
    "    return [x[0], x[-1]]\n",
    "\n",
    "\n",
    "assert first_and_last([1, 2, 3, 4]) == [1, 4]\n",
    "assert first_and_last([\"python\", \"is\", \"awesome\"]) == [\"python\", \"awesome\"]\n",
    "assert first_and_last([\"strawberry\", \"kiwi\", \"mango\", \"guava\"]) == [\"strawberry\", \"guava\"]\n",
    "print(\"Exercise 58 is correct.\")"
   ]
  },
  {
   "cell_type": "code",
   "execution_count": 68,
   "metadata": {},
   "outputs": [
    {
     "name": "stdout",
     "output_type": "stream",
     "text": [
      "Help on class list in module builtins:\n",
      "\n",
      "class list(object)\n",
      " |  list() -> new empty list\n",
      " |  list(iterable) -> new list initialized from iterable's items\n",
      " |  \n",
      " |  Methods defined here:\n",
      " |  \n",
      " |  __add__(self, value, /)\n",
      " |      Return self+value.\n",
      " |  \n",
      " |  __contains__(self, key, /)\n",
      " |      Return key in self.\n",
      " |  \n",
      " |  __delitem__(self, key, /)\n",
      " |      Delete self[key].\n",
      " |  \n",
      " |  __eq__(self, value, /)\n",
      " |      Return self==value.\n",
      " |  \n",
      " |  __ge__(self, value, /)\n",
      " |      Return self>=value.\n",
      " |  \n",
      " |  __getattribute__(self, name, /)\n",
      " |      Return getattr(self, name).\n",
      " |  \n",
      " |  __getitem__(...)\n",
      " |      x.__getitem__(y) <==> x[y]\n",
      " |  \n",
      " |  __gt__(self, value, /)\n",
      " |      Return self>value.\n",
      " |  \n",
      " |  __iadd__(self, value, /)\n",
      " |      Implement self+=value.\n",
      " |  \n",
      " |  __imul__(self, value, /)\n",
      " |      Implement self*=value.\n",
      " |  \n",
      " |  __init__(self, /, *args, **kwargs)\n",
      " |      Initialize self.  See help(type(self)) for accurate signature.\n",
      " |  \n",
      " |  __iter__(self, /)\n",
      " |      Implement iter(self).\n",
      " |  \n",
      " |  __le__(self, value, /)\n",
      " |      Return self<=value.\n",
      " |  \n",
      " |  __len__(self, /)\n",
      " |      Return len(self).\n",
      " |  \n",
      " |  __lt__(self, value, /)\n",
      " |      Return self<value.\n",
      " |  \n",
      " |  __mul__(self, value, /)\n",
      " |      Return self*value.\n",
      " |  \n",
      " |  __ne__(self, value, /)\n",
      " |      Return self!=value.\n",
      " |  \n",
      " |  __new__(*args, **kwargs) from builtins.type\n",
      " |      Create and return a new object.  See help(type) for accurate signature.\n",
      " |  \n",
      " |  __repr__(self, /)\n",
      " |      Return repr(self).\n",
      " |  \n",
      " |  __reversed__(...)\n",
      " |      L.__reversed__() -- return a reverse iterator over the list\n",
      " |  \n",
      " |  __rmul__(self, value, /)\n",
      " |      Return value*self.\n",
      " |  \n",
      " |  __setitem__(self, key, value, /)\n",
      " |      Set self[key] to value.\n",
      " |  \n",
      " |  __sizeof__(...)\n",
      " |      L.__sizeof__() -- size of L in memory, in bytes\n",
      " |  \n",
      " |  append(...)\n",
      " |      L.append(object) -> None -- append object to end\n",
      " |  \n",
      " |  clear(...)\n",
      " |      L.clear() -> None -- remove all items from L\n",
      " |  \n",
      " |  copy(...)\n",
      " |      L.copy() -> list -- a shallow copy of L\n",
      " |  \n",
      " |  count(...)\n",
      " |      L.count(value) -> integer -- return number of occurrences of value\n",
      " |  \n",
      " |  extend(...)\n",
      " |      L.extend(iterable) -> None -- extend list by appending elements from the iterable\n",
      " |  \n",
      " |  index(...)\n",
      " |      L.index(value, [start, [stop]]) -> integer -- return first index of value.\n",
      " |      Raises ValueError if the value is not present.\n",
      " |  \n",
      " |  insert(...)\n",
      " |      L.insert(index, object) -- insert object before index\n",
      " |  \n",
      " |  pop(...)\n",
      " |      L.pop([index]) -> item -- remove and return item at index (default last).\n",
      " |      Raises IndexError if list is empty or index is out of range.\n",
      " |  \n",
      " |  remove(...)\n",
      " |      L.remove(value) -> None -- remove first occurrence of value.\n",
      " |      Raises ValueError if the value is not present.\n",
      " |  \n",
      " |  reverse(...)\n",
      " |      L.reverse() -- reverse *IN PLACE*\n",
      " |  \n",
      " |  sort(...)\n",
      " |      L.sort(key=None, reverse=False) -> None -- stable sort *IN PLACE*\n",
      " |  \n",
      " |  ----------------------------------------------------------------------\n",
      " |  Data and other attributes defined here:\n",
      " |  \n",
      " |  __hash__ = None\n",
      "\n"
     ]
    }
   ],
   "source": [
    "help(list)"
   ]
  },
  {
   "cell_type": "code",
   "execution_count": 69,
   "metadata": {},
   "outputs": [
    {
     "name": "stdout",
     "output_type": "stream",
     "text": [
      "Exercise 59 is correct.\n"
     ]
    }
   ],
   "source": [
    "# Exercise 59\n",
    "# Write a function definition named first_to_last that takes in sequence and returns the sequence with the first value moved to the end of the sequence.\n",
    "def first_to_last(x):\n",
    "    a = x[0]\n",
    "    x.append(a)\n",
    "    x.remove(x[0])\n",
    "    return x\n",
    "    \n",
    "    \n",
    "\n",
    "\n",
    "assert first_to_last([1, 2, 3, 4]) == [2, 3, 4, 1]\n",
    "assert first_to_last([\"python\", \"is\", \"awesome\"]) == [\"is\", \"awesome\", \"python\"]\n",
    "assert first_to_last([\"strawberry\", \"kiwi\", \"mango\", \"guava\"]) == [\"kiwi\", \"mango\", \"guava\", \"strawberry\"]\n",
    "print(\"Exercise 59 is correct.\")"
   ]
  },
  {
   "cell_type": "markdown",
   "metadata": {},
   "source": [
    "## Functions to describe data "
   ]
  },
  {
   "cell_type": "code",
   "execution_count": 70,
   "metadata": {},
   "outputs": [
    {
     "name": "stdout",
     "output_type": "stream",
     "text": [
      "Exercise 60 is correct.\n"
     ]
    }
   ],
   "source": [
    "# Exercise 60\n",
    "# Write a function definition named sum_all that takes in sequence of numbers and returns all the numbers added together.\n",
    "def sum_all(x):\n",
    "    count = 0\n",
    "    for item in x:\n",
    "        count += item\n",
    "    return count\n",
    "\n",
    "\n",
    "assert sum_all([1, 2, 3, 4]) == 10\n",
    "assert sum_all([3, 3, 3]) == 9\n",
    "assert sum_all([0, 5, 6]) == 11\n",
    "print(\"Exercise 60 is correct.\")"
   ]
  },
  {
   "cell_type": "code",
   "execution_count": 71,
   "metadata": {},
   "outputs": [
    {
     "name": "stdout",
     "output_type": "stream",
     "text": [
      "Exercise 61 is correct.\n"
     ]
    }
   ],
   "source": [
    "# Exercise 61\n",
    "# Write a function definition named mean that takes in sequence of numbers and returns the average value\n",
    "def mean(x):\n",
    "    return sum_all(x)/len(x)\n",
    "\n",
    "assert mean([1, 2, 3, 4]) == 2.5\n",
    "assert mean([3, 3, 3]) == 3\n",
    "assert mean([1, 5, 6]) == 4\n",
    "print(\"Exercise 61 is correct.\")"
   ]
  },
  {
   "cell_type": "code",
   "execution_count": 72,
   "metadata": {},
   "outputs": [
    {
     "name": "stdout",
     "output_type": "stream",
     "text": [
      "8\n"
     ]
    }
   ],
   "source": [
    "x = [3,8,7]\n",
    "print(x[int((len(x)-1)/2)])\n"
   ]
  },
  {
   "cell_type": "code",
   "execution_count": 73,
   "metadata": {},
   "outputs": [
    {
     "name": "stdout",
     "output_type": "stream",
     "text": [
      "Exercise 62 is correct.\n"
     ]
    }
   ],
   "source": [
    "# Exercise 62\n",
    "# Write a function definition named median that takes in sequence of numbers and returns the average value\n",
    "def median(x):\n",
    "    x.sort()\n",
    "    if len(x) % 2 == 0:\n",
    "        return (x[int(len(x)/2)-1]+ x[int(len(x)/2)])/2\n",
    "    return x[int(len(x)/2)]\n",
    "        \n",
    "\n",
    "\n",
    "assert median([1, 2, 3, 4, 5]) == 3.0\n",
    "assert median([1, 2, 3]) == 2.0\n",
    "assert median([1, 5, 6]) == 5.0\n",
    "assert median([1, 2, 5, 6]) == 3.5\n",
    "print(\"Exercise 62 is correct.\")"
   ]
  },
  {
   "cell_type": "code",
   "execution_count": 74,
   "metadata": {},
   "outputs": [
    {
     "name": "stdout",
     "output_type": "stream",
     "text": [
      "[2]\n"
     ]
    }
   ],
   "source": [
    "x = []\n",
    "x.append(2)\n",
    "print(x)"
   ]
  },
  {
   "cell_type": "code",
   "execution_count": 75,
   "metadata": {},
   "outputs": [
    {
     "name": "stdout",
     "output_type": "stream",
     "text": [
      "Help on class list in module builtins:\n",
      "\n",
      "class list(object)\n",
      " |  list() -> new empty list\n",
      " |  list(iterable) -> new list initialized from iterable's items\n",
      " |  \n",
      " |  Methods defined here:\n",
      " |  \n",
      " |  __add__(self, value, /)\n",
      " |      Return self+value.\n",
      " |  \n",
      " |  __contains__(self, key, /)\n",
      " |      Return key in self.\n",
      " |  \n",
      " |  __delitem__(self, key, /)\n",
      " |      Delete self[key].\n",
      " |  \n",
      " |  __eq__(self, value, /)\n",
      " |      Return self==value.\n",
      " |  \n",
      " |  __ge__(self, value, /)\n",
      " |      Return self>=value.\n",
      " |  \n",
      " |  __getattribute__(self, name, /)\n",
      " |      Return getattr(self, name).\n",
      " |  \n",
      " |  __getitem__(...)\n",
      " |      x.__getitem__(y) <==> x[y]\n",
      " |  \n",
      " |  __gt__(self, value, /)\n",
      " |      Return self>value.\n",
      " |  \n",
      " |  __iadd__(self, value, /)\n",
      " |      Implement self+=value.\n",
      " |  \n",
      " |  __imul__(self, value, /)\n",
      " |      Implement self*=value.\n",
      " |  \n",
      " |  __init__(self, /, *args, **kwargs)\n",
      " |      Initialize self.  See help(type(self)) for accurate signature.\n",
      " |  \n",
      " |  __iter__(self, /)\n",
      " |      Implement iter(self).\n",
      " |  \n",
      " |  __le__(self, value, /)\n",
      " |      Return self<=value.\n",
      " |  \n",
      " |  __len__(self, /)\n",
      " |      Return len(self).\n",
      " |  \n",
      " |  __lt__(self, value, /)\n",
      " |      Return self<value.\n",
      " |  \n",
      " |  __mul__(self, value, /)\n",
      " |      Return self*value.\n",
      " |  \n",
      " |  __ne__(self, value, /)\n",
      " |      Return self!=value.\n",
      " |  \n",
      " |  __new__(*args, **kwargs) from builtins.type\n",
      " |      Create and return a new object.  See help(type) for accurate signature.\n",
      " |  \n",
      " |  __repr__(self, /)\n",
      " |      Return repr(self).\n",
      " |  \n",
      " |  __reversed__(...)\n",
      " |      L.__reversed__() -- return a reverse iterator over the list\n",
      " |  \n",
      " |  __rmul__(self, value, /)\n",
      " |      Return value*self.\n",
      " |  \n",
      " |  __setitem__(self, key, value, /)\n",
      " |      Set self[key] to value.\n",
      " |  \n",
      " |  __sizeof__(...)\n",
      " |      L.__sizeof__() -- size of L in memory, in bytes\n",
      " |  \n",
      " |  append(...)\n",
      " |      L.append(object) -> None -- append object to end\n",
      " |  \n",
      " |  clear(...)\n",
      " |      L.clear() -> None -- remove all items from L\n",
      " |  \n",
      " |  copy(...)\n",
      " |      L.copy() -> list -- a shallow copy of L\n",
      " |  \n",
      " |  count(...)\n",
      " |      L.count(value) -> integer -- return number of occurrences of value\n",
      " |  \n",
      " |  extend(...)\n",
      " |      L.extend(iterable) -> None -- extend list by appending elements from the iterable\n",
      " |  \n",
      " |  index(...)\n",
      " |      L.index(value, [start, [stop]]) -> integer -- return first index of value.\n",
      " |      Raises ValueError if the value is not present.\n",
      " |  \n",
      " |  insert(...)\n",
      " |      L.insert(index, object) -- insert object before index\n",
      " |  \n",
      " |  pop(...)\n",
      " |      L.pop([index]) -> item -- remove and return item at index (default last).\n",
      " |      Raises IndexError if list is empty or index is out of range.\n",
      " |  \n",
      " |  remove(...)\n",
      " |      L.remove(value) -> None -- remove first occurrence of value.\n",
      " |      Raises ValueError if the value is not present.\n",
      " |  \n",
      " |  reverse(...)\n",
      " |      L.reverse() -- reverse *IN PLACE*\n",
      " |  \n",
      " |  sort(...)\n",
      " |      L.sort(key=None, reverse=False) -> None -- stable sort *IN PLACE*\n",
      " |  \n",
      " |  ----------------------------------------------------------------------\n",
      " |  Data and other attributes defined here:\n",
      " |  \n",
      " |  __hash__ = None\n",
      "\n"
     ]
    }
   ],
   "source": [
    "help(list)"
   ]
  },
  {
   "cell_type": "code",
   "execution_count": 76,
   "metadata": {},
   "outputs": [
    {
     "name": "stdout",
     "output_type": "stream",
     "text": [
      "1\n"
     ]
    }
   ],
   "source": [
    "c = [1,2,1,1]\n",
    "a = max(c)\n",
    "m = c.index(a)\n",
    "print(m)\n",
    "\n"
   ]
  },
  {
   "cell_type": "code",
   "execution_count": 77,
   "metadata": {},
   "outputs": [
    {
     "name": "stdout",
     "output_type": "stream",
     "text": [
      "there is more than one mode\n",
      "[2, 3, 4]\n",
      "Exercise 63 is correct.\n"
     ]
    }
   ],
   "source": [
    "# ******* HELP: Exercise 63 ************\n",
    "# Write a function definition named mode that takes in sequence of numbers \n",
    "# and returns the most commonly occuring value\n",
    "def mode(x):\n",
    "    # sort given list from least to greatest: x.sort()\n",
    "    x.sort()\n",
    "    # create two new lists to store numbers(n) in x list and their count(c)\n",
    "    n=[]\n",
    "    c=[]\n",
    "    # initialize a iterable i that will increase by 1 in a while loop\n",
    "    i = 0\n",
    "    # create a while loop to start building numbers (n) and count (c) lists. \n",
    "    while i < len(x):\n",
    "        #If: two numbers in x are equal we only want to add them to our numbers (n) list once.\n",
    "        #created if statement to move onto the next index i+=1\n",
    "        if x[i] == x[i-1]:\n",
    "            i+=1\n",
    "        # else: x[i] is the first occurance of a value then we append the value to numbers (n) list,\n",
    "        # and count the number of appearances (x.count[x[i]]) and append that to count(c) list.\n",
    "        else:\n",
    "            n.append(x[i])\n",
    "            c.append(x.count(x[i]))\n",
    "            i +=1\n",
    "    # We then want to count how many times (t) the max value of our count (c) list appears.\n",
    "    t = c.count(max(c))\n",
    "    # if count (c) list only has 1 occurance of the max value (t = 1) then we know that\n",
    "    # there is only one mode in the given list x\n",
    "    if t == 1:\n",
    "        # we want to idenitify the index of the max in c because this will match the index\n",
    "        # for the corressponding value in numbers (n)\n",
    "        m = c.index(max(c))\n",
    "        return n[m]\n",
    "    #else there is more than one mode in the given list x if t is greater than 1\n",
    "    else:\n",
    "        #initialize a new variable (p) that will help us move through the numbers (n) list\n",
    "        p = 0\n",
    "        # create a new list (k) to store multiple mode values\n",
    "        k=[]\n",
    "        # we want to idenitify the index of the max in c because this will match the index\n",
    "        # for the corressponding value in numbers (n)\n",
    "        m = c.index(max(c))\n",
    "        # if there is more than one occurance of the max value in count (c) list then we need to append\n",
    "        # our k list with other mode values. While(p) is less than the value of (t) we can append the (k) list\n",
    "        # with the other mode values for how many times (t) is counted.\n",
    "        while p < t:\n",
    "            k.append(n[m+p])\n",
    "            p += 1\n",
    "        # Let the user know that there is more than one mode\n",
    "        print(\"there is more than one mode\")\n",
    "        # return k list with values of the multiple modes in x\n",
    "        return k\n",
    "\n",
    "print(mode([1,2,2,3,3,4,4]))\n",
    "            \n",
    "assert mode([1, 2, 2, 3, 4]) == 2\n",
    "assert mode([1, 1, 2, 3]) == 1\n",
    "assert mode([2, 2, 3, 3, 3]) == 3\n",
    "print(\"Exercise 63 is correct.\")"
   ]
  },
  {
   "cell_type": "code",
   "execution_count": 78,
   "metadata": {},
   "outputs": [
    {
     "name": "stdout",
     "output_type": "stream",
     "text": [
      "Exercise 64 is correct.\n"
     ]
    }
   ],
   "source": [
    "# Exercise 64\n",
    "# Write a function definition named product_of_all that takes in sequence of numbers and returns the \n",
    "#product of multiplying all the numbers together\n",
    "def product_of_all(x):\n",
    "    m = 1\n",
    "    i = 0\n",
    "    while i < len(x):\n",
    "        m *= x[i]\n",
    "        i += 1\n",
    "    return m\n",
    "\n",
    "assert product_of_all([1, 2, 3]) == 6\n",
    "assert product_of_all([3, 4, 5]) == 60\n",
    "assert product_of_all([2, 2, 3, 0]) == 0\n",
    "print(\"Exercise 64 is correct.\")"
   ]
  },
  {
   "cell_type": "markdown",
   "metadata": {},
   "source": [
    "## Applying functions to lists"
   ]
  },
  {
   "cell_type": "code",
   "execution_count": 79,
   "metadata": {},
   "outputs": [],
   "source": [
    "# Run this cell in order to use the following list of numbers for the next exercises\n",
    "numbers = [-5, -4, -3, -2, -1, 1, 2, 3, 4, 5] "
   ]
  },
  {
   "cell_type": "code",
   "execution_count": 80,
   "metadata": {},
   "outputs": [
    {
     "name": "stdout",
     "output_type": "stream",
     "text": [
      "Exercise 65 is correct.\n"
     ]
    }
   ],
   "source": [
    "# Exercise 65\n",
    "# Write a function definition named get_highest_number that takes in sequence of numbers and returns the largest number.\n",
    "\n",
    "def get_highest_number(x):\n",
    "    return max(x)\n",
    "\n",
    "assert get_highest_number([1, 2, 3]) == 3\n",
    "assert get_highest_number([-5, -4, -3, -2, -1, 1, 2, 3, 4, 5]) == 5\n",
    "assert get_highest_number([-5, -3, 1]) == 1\n",
    "print(\"Exercise 65 is correct.\")"
   ]
  },
  {
   "cell_type": "code",
   "execution_count": 81,
   "metadata": {},
   "outputs": [
    {
     "name": "stdout",
     "output_type": "stream",
     "text": [
      "Exercise 66 is correct.\n"
     ]
    }
   ],
   "source": [
    "# Exercise 66\n",
    "# Write a function definition named get_smallest_number that takes in sequence of \n",
    "# numbers and returns the smallest number.\n",
    "\n",
    "def get_smallest_number(x):\n",
    "    return min(x)\n",
    "\n",
    "assert get_smallest_number([1, 2, 3]) == 1\n",
    "assert get_smallest_number([-5, -4, -3, -2, -1, 1, 2, 3, 4, 5]) == -5\n",
    "assert get_smallest_number([-4, -3, 1]) == -4\n",
    "print(\"Exercise 66 is correct.\")"
   ]
  },
  {
   "cell_type": "code",
   "execution_count": 82,
   "metadata": {},
   "outputs": [
    {
     "name": "stdout",
     "output_type": "stream",
     "text": [
      "Exercise 67 is correct.\n"
     ]
    }
   ],
   "source": [
    "# Exercise 67\n",
    "# Write a function definition named only_odd_numbers that takes in sequence of numbers \n",
    "# and returns the odd numbers in a list.\n",
    "def only_odd_numbers(x):\n",
    "    s = []\n",
    "    for item in x:\n",
    "        if item % 2 != 0:\n",
    "            s.append(item)\n",
    "    return s\n",
    "\n",
    "\n",
    "assert only_odd_numbers([1, 2, 3]) == [1, 3]\n",
    "assert only_odd_numbers([-5, -4, -3, -2, -1, 1, 2, 3, 4, 5]) == [-5, -3, -1, 1, 3, 5]\n",
    "assert only_odd_numbers([-4, -3, 1]) == [-3, 1]\n",
    "print(\"Exercise 67 is correct.\")"
   ]
  },
  {
   "cell_type": "code",
   "execution_count": 83,
   "metadata": {},
   "outputs": [
    {
     "name": "stdout",
     "output_type": "stream",
     "text": [
      "Exercise 68 is correct.\n"
     ]
    }
   ],
   "source": [
    "# Exercise 68\n",
    "# Write a function definition named only_even_numbers that takes in sequence of numbers \n",
    "# and returns the even numbers in a list.\n",
    "\n",
    "def only_even_numbers(x):\n",
    "    s = []\n",
    "    for item in x:\n",
    "        if item % 2 == 0:\n",
    "            s.append(item)\n",
    "    return s\n",
    "\n",
    "assert only_even_numbers([1, 2, 3]) == [2]\n",
    "assert only_even_numbers([-5, -4, -3, -2, -1, 1, 2, 3, 4, 5]) == [-4, -2, 2, 4]\n",
    "assert only_even_numbers([-4, -3, 1]) == [-4]\n",
    "print(\"Exercise 68 is correct.\")"
   ]
  },
  {
   "cell_type": "code",
   "execution_count": 84,
   "metadata": {},
   "outputs": [
    {
     "name": "stdout",
     "output_type": "stream",
     "text": [
      "Exercise 69 is correct.\n"
     ]
    }
   ],
   "source": [
    "# Exercise 69\n",
    "# Write a function definition named only_positive_numbers that takes in sequence of numbers \n",
    "# and returns the positive numbers in a list.\n",
    "\n",
    "def only_positive_numbers(x):\n",
    "    s = []\n",
    "    for item in x:\n",
    "        if item >= 0:\n",
    "            s.append(item)\n",
    "    return s\n",
    "\n",
    "assert only_positive_numbers([1, 2, 3]) == [1, 2, 3]\n",
    "assert only_positive_numbers([-5, -4, -3, -2, -1, 1, 2, 3, 4, 5]) == [1, 2, 3, 4, 5]\n",
    "assert only_positive_numbers([-4, -3, 1]) == [1]\n",
    "print(\"Exercise 69 is correct.\")"
   ]
  },
  {
   "cell_type": "code",
   "execution_count": 85,
   "metadata": {},
   "outputs": [
    {
     "name": "stdout",
     "output_type": "stream",
     "text": [
      "Exercise 70 is correct.\n"
     ]
    }
   ],
   "source": [
    "# Exercise 70\n",
    "# Write a function definition named only_negative_numbers that takes in sequence of numbers\n",
    "# and returns the negative numbers in a list.\n",
    "\n",
    "def only_negative_numbers(x):\n",
    "    s = []\n",
    "    for item in x:\n",
    "        if item < 0:\n",
    "            s. append(item)\n",
    "    return s\n",
    "\n",
    "\n",
    "\n",
    "assert only_negative_numbers([1, 2, 3]) == []\n",
    "assert only_negative_numbers([-5, -4, -3, -2, -1, 1, 2, 3, 4, 5]) == [-5, -4, -3, -2, -1]\n",
    "assert only_negative_numbers([-4, -3, 1]) == [-4, -3]\n",
    "print(\"Exercise 70 is correct.\")"
   ]
  },
  {
   "cell_type": "code",
   "execution_count": 86,
   "metadata": {},
   "outputs": [
    {
     "name": "stdout",
     "output_type": "stream",
     "text": [
      "Exercise 71 is correct.\n"
     ]
    }
   ],
   "source": [
    "# Exercise 71\n",
    "# Write a function definition named has_evens that takes in sequence of numbers \n",
    "# and returns True if there are any even numbers in the sequence\n",
    "\n",
    "def has_evens(x):\n",
    "    for item in x:\n",
    "        if item % 2 == 0:\n",
    "            return True\n",
    "    return False\n",
    "\n",
    "assert has_evens([1, 2, 3]) == True\n",
    "assert has_evens([2, 5, 6]) == True\n",
    "assert has_evens([3, 3, 3]) == False\n",
    "assert has_evens([]) == False\n",
    "print(\"Exercise 71 is correct.\")"
   ]
  },
  {
   "cell_type": "code",
   "execution_count": 87,
   "metadata": {},
   "outputs": [
    {
     "name": "stdout",
     "output_type": "stream",
     "text": [
      "Exercise 72 is correct.\n"
     ]
    }
   ],
   "source": [
    "# Exercise 72\n",
    "# Write a function definition named count_evens that takes in sequence of numbers\n",
    "# and returns the number of even numbers\n",
    "\n",
    "def count_evens(x):\n",
    "    c = 0\n",
    "    for item in x:\n",
    "        if item % 2 == 0:\n",
    "            c += 1\n",
    "    return c\n",
    "\n",
    "\n",
    "assert count_evens([1, 2, 3]) == 1\n",
    "assert count_evens([2, 5, 6]) == 2\n",
    "assert count_evens([3, 3, 3]) == 0\n",
    "assert count_evens([5, 6, 7, 8] ) == 2\n",
    "print(\"Exercise 72 is correct.\")"
   ]
  },
  {
   "cell_type": "code",
   "execution_count": 88,
   "metadata": {},
   "outputs": [
    {
     "name": "stdout",
     "output_type": "stream",
     "text": [
      "Exercise 73 is correct.\n"
     ]
    }
   ],
   "source": [
    "# Exercise 73\n",
    "# Write a function definition named has_odds that takes in sequence of numbers \n",
    "# and returns True if there are any odd numbers in the sequence\n",
    "\n",
    "def has_odds(x):\n",
    "    for item in x:\n",
    "        if item % 2 != 0:\n",
    "            return True\n",
    "    return False\n",
    "\n",
    "\n",
    "assert has_odds([1, 2, 3]) == True\n",
    "assert has_odds([2, 5, 6]) == True\n",
    "assert has_odds([3, 3, 3]) == True\n",
    "assert has_odds([2, 4, 6]) == False\n",
    "print(\"Exercise 73 is correct.\")"
   ]
  },
  {
   "cell_type": "code",
   "execution_count": 89,
   "metadata": {},
   "outputs": [
    {
     "name": "stdout",
     "output_type": "stream",
     "text": [
      "Exercise 74 is correct.\n"
     ]
    }
   ],
   "source": [
    "# Exercise 74\n",
    "# Write a function definition named count_odds that takes in sequence of numbers\n",
    "# and returns True if there are any odd numbers in the sequence\n",
    "\n",
    "def count_odds(x):\n",
    "    c = 0\n",
    "    for item in x:\n",
    "        if item % 2 != 0:\n",
    "            c += 1\n",
    "    return c\n",
    "            \n",
    "            \n",
    "assert count_odds([1, 2, 3]) == 2\n",
    "assert count_odds([2, 5, 6]) == 1\n",
    "assert count_odds([3, 3, 3]) == 3\n",
    "assert count_odds([2, 4, 6]) == 0\n",
    "print(\"Exercise 74 is correct.\")"
   ]
  },
  {
   "cell_type": "code",
   "execution_count": 90,
   "metadata": {},
   "outputs": [
    {
     "name": "stdout",
     "output_type": "stream",
     "text": [
      "Exercise 75 is correct.\n"
     ]
    }
   ],
   "source": [
    "# Exercise 75\n",
    "# Write a function definition named count_negatives that takes in sequence of numbers \n",
    "# and returns a count of the number of negative numbers\n",
    "\n",
    "def count_negatives(x):\n",
    "    c = 0\n",
    "    for item in x:\n",
    "        if item < 0 :\n",
    "            c += 1\n",
    "    return c\n",
    "\n",
    "assert count_negatives([1, -2, 3]) == 1\n",
    "assert count_negatives([2, -5, -6]) == 2\n",
    "assert count_negatives([3, 3, 3]) == 0\n",
    "print(\"Exercise 75 is correct.\")"
   ]
  },
  {
   "cell_type": "code",
   "execution_count": 91,
   "metadata": {},
   "outputs": [
    {
     "name": "stdout",
     "output_type": "stream",
     "text": [
      "Exercise 76 is correct.\n"
     ]
    }
   ],
   "source": [
    "# Exercise 76\n",
    "# Write a function definition named count_positives that takes in sequence of numbers \n",
    "# and returns a count of the number of positive numbers\n",
    "\n",
    "def count_positives(x):\n",
    "    c = 0\n",
    "    for item in x:\n",
    "        if item >= 0:\n",
    "            c += 1\n",
    "    return c\n",
    "\n",
    "assert count_positives([1, -2, 3]) == 2\n",
    "assert count_positives([2, -5, -6]) == 1\n",
    "assert count_positives([3, 3, 3]) == 3\n",
    "assert count_positives([-2, -1, -5]) == 0\n",
    "print(\"Exercise 76 is correct.\")"
   ]
  },
  {
   "cell_type": "code",
   "execution_count": 92,
   "metadata": {},
   "outputs": [
    {
     "name": "stdout",
     "output_type": "stream",
     "text": [
      "Exercise 77 is correct.\n"
     ]
    }
   ],
   "source": [
    "# Exercise 77\n",
    "# Write a function definition named only_positive_evens that takes in sequence of numbers \n",
    "# and returns a list containing all the positive evens from the sequence\n",
    "\n",
    "def only_positive_evens(x):\n",
    "    s = []\n",
    "    for item in x:\n",
    "        if item >= 0 and item % 2 == 0:\n",
    "            s.append(item)\n",
    "    return s\n",
    "\n",
    "assert only_positive_evens([1, -2, 3]) == []\n",
    "assert only_positive_evens([2, -5, -6]) == [2]\n",
    "assert only_positive_evens([3, 3, 4, 6]) == [4, 6]\n",
    "assert only_positive_evens([2, 3, 4, -1, -5]) == [2, 4]\n",
    "print(\"Exercise 77 is correct.\")"
   ]
  },
  {
   "cell_type": "code",
   "execution_count": 93,
   "metadata": {},
   "outputs": [
    {
     "name": "stdout",
     "output_type": "stream",
     "text": [
      "Exercise 78 is correct.\n"
     ]
    }
   ],
   "source": [
    "# Exercise 78\n",
    "# Write a function definition named only_positive_odds that takes in sequence of numbers \n",
    "# and returns a list containing all the positive odd numbers from the sequence\n",
    "\n",
    "def only_positive_odds(x):\n",
    "    s = []\n",
    "    for item in x:\n",
    "        if item >= 0 and item % 2 != 0:\n",
    "            s.append(item)\n",
    "    return s\n",
    "\n",
    "assert only_positive_odds([1, -2, 3]) == [1, 3]\n",
    "assert only_positive_odds([2, -5, -6]) == []\n",
    "assert only_positive_odds([3, 3, 4, 6]) == [3, 3]\n",
    "assert only_positive_odds([2, 3, 4, -1, -5]) == [3]\n",
    "print(\"Exercise 78 is correct.\")"
   ]
  },
  {
   "cell_type": "code",
   "execution_count": 94,
   "metadata": {},
   "outputs": [
    {
     "name": "stdout",
     "output_type": "stream",
     "text": [
      "Exercise 79 is correct.\n"
     ]
    }
   ],
   "source": [
    "# Exercise 79\n",
    "# Write a function definition named only_negative_evens that takes in sequence of numbers \n",
    "# and returns a list containing all the negative even numbers from the sequence\n",
    "\n",
    "def only_negative_evens(x):\n",
    "    s = []\n",
    "    for item in x:\n",
    "        if item < 0 and item % 2 == 0:\n",
    "            s.append(item)\n",
    "    return s\n",
    "\n",
    "assert only_negative_evens([1, -2, 3]) == [-2]\n",
    "assert only_negative_evens([2, -5, -6]) == [-6]\n",
    "assert only_negative_evens([3, 3, 4, 6]) == []\n",
    "assert only_negative_evens([-2, 3, 4, -1, -4]) == [-2, -4]\n",
    "print(\"Exercise 79 is correct.\")"
   ]
  },
  {
   "cell_type": "code",
   "execution_count": 95,
   "metadata": {},
   "outputs": [
    {
     "name": "stdout",
     "output_type": "stream",
     "text": [
      "Exercise 80 is correct.\n"
     ]
    }
   ],
   "source": [
    "# Exercise 80\n",
    "# Write a function definition named only_negative_odds that takes in sequence of numbers \n",
    "# and returns a list containing all the negative odd numbers from the sequence\n",
    "\n",
    "def only_negative_odds(x):\n",
    "    s = []\n",
    "    for item in x:\n",
    "        if item < 0 and item % 2 != 0 :\n",
    "            s.append(item)\n",
    "    return s\n",
    "\n",
    "assert only_negative_odds([1, -2, 3]) == []\n",
    "assert only_negative_odds([2, -5, -6]) == [-5]\n",
    "assert only_negative_odds([3, 3, 4, 6]) == []\n",
    "assert only_negative_odds([2, -3, 4, -1, -4]) == [-3, -1]\n",
    "print(\"Exercise 80 is correct.\")"
   ]
  },
  {
   "cell_type": "code",
   "execution_count": 96,
   "metadata": {},
   "outputs": [
    {
     "name": "stdout",
     "output_type": "stream",
     "text": [
      "Help on class list in module builtins:\n",
      "\n",
      "class list(object)\n",
      " |  list() -> new empty list\n",
      " |  list(iterable) -> new list initialized from iterable's items\n",
      " |  \n",
      " |  Methods defined here:\n",
      " |  \n",
      " |  __add__(self, value, /)\n",
      " |      Return self+value.\n",
      " |  \n",
      " |  __contains__(self, key, /)\n",
      " |      Return key in self.\n",
      " |  \n",
      " |  __delitem__(self, key, /)\n",
      " |      Delete self[key].\n",
      " |  \n",
      " |  __eq__(self, value, /)\n",
      " |      Return self==value.\n",
      " |  \n",
      " |  __ge__(self, value, /)\n",
      " |      Return self>=value.\n",
      " |  \n",
      " |  __getattribute__(self, name, /)\n",
      " |      Return getattr(self, name).\n",
      " |  \n",
      " |  __getitem__(...)\n",
      " |      x.__getitem__(y) <==> x[y]\n",
      " |  \n",
      " |  __gt__(self, value, /)\n",
      " |      Return self>value.\n",
      " |  \n",
      " |  __iadd__(self, value, /)\n",
      " |      Implement self+=value.\n",
      " |  \n",
      " |  __imul__(self, value, /)\n",
      " |      Implement self*=value.\n",
      " |  \n",
      " |  __init__(self, /, *args, **kwargs)\n",
      " |      Initialize self.  See help(type(self)) for accurate signature.\n",
      " |  \n",
      " |  __iter__(self, /)\n",
      " |      Implement iter(self).\n",
      " |  \n",
      " |  __le__(self, value, /)\n",
      " |      Return self<=value.\n",
      " |  \n",
      " |  __len__(self, /)\n",
      " |      Return len(self).\n",
      " |  \n",
      " |  __lt__(self, value, /)\n",
      " |      Return self<value.\n",
      " |  \n",
      " |  __mul__(self, value, /)\n",
      " |      Return self*value.\n",
      " |  \n",
      " |  __ne__(self, value, /)\n",
      " |      Return self!=value.\n",
      " |  \n",
      " |  __new__(*args, **kwargs) from builtins.type\n",
      " |      Create and return a new object.  See help(type) for accurate signature.\n",
      " |  \n",
      " |  __repr__(self, /)\n",
      " |      Return repr(self).\n",
      " |  \n",
      " |  __reversed__(...)\n",
      " |      L.__reversed__() -- return a reverse iterator over the list\n",
      " |  \n",
      " |  __rmul__(self, value, /)\n",
      " |      Return value*self.\n",
      " |  \n",
      " |  __setitem__(self, key, value, /)\n",
      " |      Set self[key] to value.\n",
      " |  \n",
      " |  __sizeof__(...)\n",
      " |      L.__sizeof__() -- size of L in memory, in bytes\n",
      " |  \n",
      " |  append(...)\n",
      " |      L.append(object) -> None -- append object to end\n",
      " |  \n",
      " |  clear(...)\n",
      " |      L.clear() -> None -- remove all items from L\n",
      " |  \n",
      " |  copy(...)\n",
      " |      L.copy() -> list -- a shallow copy of L\n",
      " |  \n",
      " |  count(...)\n",
      " |      L.count(value) -> integer -- return number of occurrences of value\n",
      " |  \n",
      " |  extend(...)\n",
      " |      L.extend(iterable) -> None -- extend list by appending elements from the iterable\n",
      " |  \n",
      " |  index(...)\n",
      " |      L.index(value, [start, [stop]]) -> integer -- return first index of value.\n",
      " |      Raises ValueError if the value is not present.\n",
      " |  \n",
      " |  insert(...)\n",
      " |      L.insert(index, object) -- insert object before index\n",
      " |  \n",
      " |  pop(...)\n",
      " |      L.pop([index]) -> item -- remove and return item at index (default last).\n",
      " |      Raises IndexError if list is empty or index is out of range.\n",
      " |  \n",
      " |  remove(...)\n",
      " |      L.remove(value) -> None -- remove first occurrence of value.\n",
      " |      Raises ValueError if the value is not present.\n",
      " |  \n",
      " |  reverse(...)\n",
      " |      L.reverse() -- reverse *IN PLACE*\n",
      " |  \n",
      " |  sort(...)\n",
      " |      L.sort(key=None, reverse=False) -> None -- stable sort *IN PLACE*\n",
      " |  \n",
      " |  ----------------------------------------------------------------------\n",
      " |  Data and other attributes defined here:\n",
      " |  \n",
      " |  __hash__ = None\n",
      "\n"
     ]
    }
   ],
   "source": [
    "help(list)"
   ]
  },
  {
   "cell_type": "code",
   "execution_count": 97,
   "metadata": {},
   "outputs": [
    {
     "name": "stdout",
     "output_type": "stream",
     "text": [
      "['kiwi', 'star']\n",
      "Exercise 81 is correct.\n"
     ]
    }
   ],
   "source": [
    "# Exercise 81\n",
    "# Write a function definition named shortest_string that takes in a list of strings \n",
    "# and returns the shortest string in the list.\n",
    "\n",
    "def shortest_string(x):\n",
    "    l = []\n",
    "    for item in x:\n",
    "        l.append(len(item))\n",
    "    c = 0\n",
    "    for item in x:\n",
    "        if len(item) == min(l):\n",
    "            c += 1\n",
    "    if c == 1:\n",
    "        for item in x:\n",
    "            if len(item) == min(l):\n",
    "                return item\n",
    "    else:\n",
    "        j = []\n",
    "        for item in x:\n",
    "            if len(item) == min(l):\n",
    "                j.append(item)\n",
    "        return j\n",
    "\n",
    "print(shortest_string([\"kiwi\", \"mango\", \"strawberry\",\"star\"]))\n",
    "\n",
    "assert shortest_string([\"kiwi\", \"mango\", \"strawberry\"]) == \"kiwi\"\n",
    "assert shortest_string([\"hello\", \"everybody\"]) == \"hello\"\n",
    "assert shortest_string([\"mary\", \"had\", \"a\", \"little\", \"lamb\"]) == \"a\"\n",
    "print(\"Exercise 81 is correct.\")"
   ]
  },
  {
   "cell_type": "code",
   "execution_count": 98,
   "metadata": {},
   "outputs": [
    {
     "name": "stdout",
     "output_type": "stream",
     "text": [
      "['strawberry', 'strawberry']\n",
      "Exercise 82 is correct.\n"
     ]
    }
   ],
   "source": [
    "# Exercise 82\n",
    "# Write a function definition named longest_string that takes in sequence of strings \n",
    "# and returns the longest string in the list.\n",
    "\n",
    "def longest_string(x):\n",
    "    l = []\n",
    "    for item in x:\n",
    "        l.append(len(item))\n",
    "    c = 0\n",
    "    for item in x:\n",
    "        if len(item) == max(l):\n",
    "            c += 1\n",
    "    if c == 1:\n",
    "        for item in x:\n",
    "            if len(item) == max(l):\n",
    "                return item\n",
    "    else:\n",
    "        j = []\n",
    "        for item in x:\n",
    "            if len(item) == max(l):\n",
    "                j.append(item)\n",
    "        return j\n",
    "\n",
    "print(longest_string([\"kiwi\", \"mango\", \"strawberry\",\"strawberry\"]))\n",
    "\n",
    "\n",
    "\n",
    "assert longest_string([\"kiwi\", \"mango\", \"strawberry\"]) == \"strawberry\"\n",
    "assert longest_string([\"hello\", \"everybody\"]) == \"everybody\"\n",
    "assert longest_string([\"mary\", \"had\", \"a\", \"little\", \"lamb\"]) == \"little\"\n",
    "print(\"Exercise 82 is correct.\")"
   ]
  },
  {
   "cell_type": "markdown",
   "metadata": {},
   "source": [
    "## Working with sets\n",
    "**Hint** Take a look at the `set` function in Python, the `set` data type, and built-in `set` methods."
   ]
  },
  {
   "cell_type": "code",
   "execution_count": 99,
   "metadata": {},
   "outputs": [
    {
     "name": "stdout",
     "output_type": "stream",
     "text": [
      "{'w', 'i', 'k'}\n",
      "{1, 2, 3, 4}\n"
     ]
    }
   ],
   "source": [
    "# Example set function usage\n",
    "print(set(\"kiwi\"))\n",
    "print(set([1, 2, 2, 3, 3, 3, 4, 4, 4, 4]))"
   ]
  },
  {
   "cell_type": "code",
   "execution_count": 100,
   "metadata": {},
   "outputs": [
    {
     "name": "stdout",
     "output_type": "stream",
     "text": [
      "Help on class set in module builtins:\n",
      "\n",
      "class set(object)\n",
      " |  set() -> new empty set object\n",
      " |  set(iterable) -> new set object\n",
      " |  \n",
      " |  Build an unordered collection of unique elements.\n",
      " |  \n",
      " |  Methods defined here:\n",
      " |  \n",
      " |  __and__(self, value, /)\n",
      " |      Return self&value.\n",
      " |  \n",
      " |  __contains__(...)\n",
      " |      x.__contains__(y) <==> y in x.\n",
      " |  \n",
      " |  __eq__(self, value, /)\n",
      " |      Return self==value.\n",
      " |  \n",
      " |  __ge__(self, value, /)\n",
      " |      Return self>=value.\n",
      " |  \n",
      " |  __getattribute__(self, name, /)\n",
      " |      Return getattr(self, name).\n",
      " |  \n",
      " |  __gt__(self, value, /)\n",
      " |      Return self>value.\n",
      " |  \n",
      " |  __iand__(self, value, /)\n",
      " |      Return self&=value.\n",
      " |  \n",
      " |  __init__(self, /, *args, **kwargs)\n",
      " |      Initialize self.  See help(type(self)) for accurate signature.\n",
      " |  \n",
      " |  __ior__(self, value, /)\n",
      " |      Return self|=value.\n",
      " |  \n",
      " |  __isub__(self, value, /)\n",
      " |      Return self-=value.\n",
      " |  \n",
      " |  __iter__(self, /)\n",
      " |      Implement iter(self).\n",
      " |  \n",
      " |  __ixor__(self, value, /)\n",
      " |      Return self^=value.\n",
      " |  \n",
      " |  __le__(self, value, /)\n",
      " |      Return self<=value.\n",
      " |  \n",
      " |  __len__(self, /)\n",
      " |      Return len(self).\n",
      " |  \n",
      " |  __lt__(self, value, /)\n",
      " |      Return self<value.\n",
      " |  \n",
      " |  __ne__(self, value, /)\n",
      " |      Return self!=value.\n",
      " |  \n",
      " |  __new__(*args, **kwargs) from builtins.type\n",
      " |      Create and return a new object.  See help(type) for accurate signature.\n",
      " |  \n",
      " |  __or__(self, value, /)\n",
      " |      Return self|value.\n",
      " |  \n",
      " |  __rand__(self, value, /)\n",
      " |      Return value&self.\n",
      " |  \n",
      " |  __reduce__(...)\n",
      " |      Return state information for pickling.\n",
      " |  \n",
      " |  __repr__(self, /)\n",
      " |      Return repr(self).\n",
      " |  \n",
      " |  __ror__(self, value, /)\n",
      " |      Return value|self.\n",
      " |  \n",
      " |  __rsub__(self, value, /)\n",
      " |      Return value-self.\n",
      " |  \n",
      " |  __rxor__(self, value, /)\n",
      " |      Return value^self.\n",
      " |  \n",
      " |  __sizeof__(...)\n",
      " |      S.__sizeof__() -> size of S in memory, in bytes\n",
      " |  \n",
      " |  __sub__(self, value, /)\n",
      " |      Return self-value.\n",
      " |  \n",
      " |  __xor__(self, value, /)\n",
      " |      Return self^value.\n",
      " |  \n",
      " |  add(...)\n",
      " |      Add an element to a set.\n",
      " |      \n",
      " |      This has no effect if the element is already present.\n",
      " |  \n",
      " |  clear(...)\n",
      " |      Remove all elements from this set.\n",
      " |  \n",
      " |  copy(...)\n",
      " |      Return a shallow copy of a set.\n",
      " |  \n",
      " |  difference(...)\n",
      " |      Return the difference of two or more sets as a new set.\n",
      " |      \n",
      " |      (i.e. all elements that are in this set but not the others.)\n",
      " |  \n",
      " |  difference_update(...)\n",
      " |      Remove all elements of another set from this set.\n",
      " |  \n",
      " |  discard(...)\n",
      " |      Remove an element from a set if it is a member.\n",
      " |      \n",
      " |      If the element is not a member, do nothing.\n",
      " |  \n",
      " |  intersection(...)\n",
      " |      Return the intersection of two sets as a new set.\n",
      " |      \n",
      " |      (i.e. all elements that are in both sets.)\n",
      " |  \n",
      " |  intersection_update(...)\n",
      " |      Update a set with the intersection of itself and another.\n",
      " |  \n",
      " |  isdisjoint(...)\n",
      " |      Return True if two sets have a null intersection.\n",
      " |  \n",
      " |  issubset(...)\n",
      " |      Report whether another set contains this set.\n",
      " |  \n",
      " |  issuperset(...)\n",
      " |      Report whether this set contains another set.\n",
      " |  \n",
      " |  pop(...)\n",
      " |      Remove and return an arbitrary set element.\n",
      " |      Raises KeyError if the set is empty.\n",
      " |  \n",
      " |  remove(...)\n",
      " |      Remove an element from a set; it must be a member.\n",
      " |      \n",
      " |      If the element is not a member, raise a KeyError.\n",
      " |  \n",
      " |  symmetric_difference(...)\n",
      " |      Return the symmetric difference of two sets as a new set.\n",
      " |      \n",
      " |      (i.e. all elements that are in exactly one of the sets.)\n",
      " |  \n",
      " |  symmetric_difference_update(...)\n",
      " |      Update a set with the symmetric difference of itself and another.\n",
      " |  \n",
      " |  union(...)\n",
      " |      Return the union of sets as a new set.\n",
      " |      \n",
      " |      (i.e. all elements that are in either set.)\n",
      " |  \n",
      " |  update(...)\n",
      " |      Update a set with the union of itself and others.\n",
      " |  \n",
      " |  ----------------------------------------------------------------------\n",
      " |  Data and other attributes defined here:\n",
      " |  \n",
      " |  __hash__ = None\n",
      "\n"
     ]
    }
   ],
   "source": [
    "help(set)"
   ]
  },
  {
   "cell_type": "code",
   "execution_count": 101,
   "metadata": {},
   "outputs": [],
   "source": [
    "u = set([1,2,3])\n",
    "\n"
   ]
  },
  {
   "cell_type": "code",
   "execution_count": 102,
   "metadata": {},
   "outputs": [
    {
     "name": "stdout",
     "output_type": "stream",
     "text": [
      "Exercise 83 is correct.\n"
     ]
    }
   ],
   "source": [
    "# Exercise 83\n",
    "# Write a function definition named get_unique_values that takes in a list \n",
    "# and returns a set with only the unique values from that list.\n",
    "def get_unique_values(x):\n",
    "    u = set(x)\n",
    "    return u\n",
    "\n",
    "\n",
    "assert get_unique_values([\"ant\", \"ant\", \"mosquito\", \"mosquito\", \"ladybug\"]) == {\"ant\", \"mosquito\", \"ladybug\"}\n",
    "assert get_unique_values([\"b\", \"a\", \"n\", \"a\", \"n\", \"a\", \"s\"]) == {\"b\", \"a\", \"n\", \"s\"}\n",
    "assert get_unique_values([\"mary\", \"had\", \"a\", \"little\", \"lamb\", \"little\", \"lamb\", \"little\", \"lamb\"]) == {\"mary\", \"had\", \"a\", \"little\", \"lamb\"}\n",
    "print(\"Exercise 83 is correct.\")"
   ]
  },
  {
   "cell_type": "code",
   "execution_count": 103,
   "metadata": {},
   "outputs": [
    {
     "name": "stdout",
     "output_type": "stream",
     "text": [
      "Exercise 84 is correct.\n"
     ]
    }
   ],
   "source": [
    "# Exercise 84\n",
    "# Write a function definition named get_unique_values_from_two_lists that takes two lists \n",
    "# and returns a single set with only the unique values\n",
    "\n",
    "def get_unique_values_from_two_lists(x,y):\n",
    "    u = set()\n",
    "    for item in x:\n",
    "        u.add(item)\n",
    "    for item in y:\n",
    "        u.add(item)\n",
    "    return u\n",
    "    \n",
    "assert get_unique_values_from_two_lists([5, 1, 2, 3], [3, 4, 5, 5]) == {1, 2, 3, 4, 5}\n",
    "assert get_unique_values_from_two_lists([1, 1], [2, 2, 3]) == {1, 2, 3}\n",
    "assert get_unique_values_from_two_lists([\"tomato\", \"mango\", \"kiwi\"], [\"eggplant\", \"tomato\", \"broccoli\"]) == {\"tomato\", \"mango\", \"kiwi\", \"eggplant\", \"broccoli\"}\n",
    "print(\"Exercise 84 is correct.\")"
   ]
  },
  {
   "cell_type": "code",
   "execution_count": 104,
   "metadata": {},
   "outputs": [
    {
     "name": "stdout",
     "output_type": "stream",
     "text": [
      "Exercise 85 is correct.\n"
     ]
    }
   ],
   "source": [
    "# Exercise 85\n",
    "# Write a function definition named get_values_in_common that takes two lists \n",
    "# and returns a single set with the values that each list has in common\n",
    "\n",
    "def get_values_in_common(x,y):\n",
    "    u = set()\n",
    "    for item in x:\n",
    "        for obj in y:\n",
    "            if item == obj:\n",
    "                u.add(item)\n",
    "    return u\n",
    "\n",
    "assert get_values_in_common([5, 1, 2, 3], [3, 4, 5, 5]) == {3, 5}\n",
    "assert get_values_in_common([1, 2], [2, 2, 3]) == {2}\n",
    "assert get_values_in_common([\"tomato\", \"mango\", \"kiwi\"], [\"eggplant\", \"tomato\", \"broccoli\"]) == {\"tomato\"}\n",
    "print(\"Exercise 85 is correct.\")"
   ]
  },
  {
   "cell_type": "code",
   "execution_count": 105,
   "metadata": {},
   "outputs": [
    {
     "name": "stdout",
     "output_type": "stream",
     "text": [
      "Exercise 86 is correct.\n"
     ]
    }
   ],
   "source": [
    "# Exercise 86\n",
    "# Write a function definition named get_values_not_in_common that takes two lists \n",
    "# and returns a single set with the values that each list does not have in common\n",
    "\n",
    "def get_values_not_in_common(x,y):\n",
    "    # create an empty set(u)\n",
    "    u = set()\n",
    "    # create a for loop to run through items in (x) list\n",
    "    for item in x:\n",
    "    # initate counter (i) to 0\n",
    "        i = 0\n",
    "    # while loop will compare an item in (x) list to each value in a (y) list\n",
    "        while i < len(y):\n",
    "            # if item in (x) list and item (i) in (y) list are NOT equal, a = True,\n",
    "            if item != y[i]:\n",
    "                a = True\n",
    "            # else item in (x) list and item (i) in (y) list are equal, a = False.\n",
    "            else:\n",
    "                a = False\n",
    "            # send i to value that will be OUT of the while loop to escape.\n",
    "                i = len(y)\n",
    "            # increment i += 1 to send y to next index, and continue in while loop if i < len(y)\n",
    "            i += 1\n",
    "        # If a == True then item is a unique value. Add item to set(u)\n",
    "        if a == True:\n",
    "            u.add(item)\n",
    "    # create a for loop to run through items in (y) list. \n",
    "    # Runs through the same steps as previous for loop with (x) list\n",
    "    for item in y:\n",
    "        i = 0\n",
    "        while i < len(x):\n",
    "            if item != x[i]:\n",
    "                a = True\n",
    "            else:\n",
    "                a = False\n",
    "                i = len(x)\n",
    "            i += 1\n",
    "        if a == True:\n",
    "            u.add(item)\n",
    "    return u\n",
    "\n",
    "\n",
    "assert get_values_not_in_common([5, 1, 2, 3], [3, 4, 5, 5]) == {1, 2, 4}\n",
    "assert get_values_not_in_common([1, 1], [2, 2, 3]) == {1, 2, 3}\n",
    "assert get_values_not_in_common([\"tomato\", \"mango\", \"kiwi\"], [\"eggplant\", \"tomato\", \"broccoli\"]) == {\"mango\", \"kiwi\", \"eggplant\", \"broccoli\"}\n",
    "print(\"Exercise 86 is correct.\")"
   ]
  },
  {
   "cell_type": "markdown",
   "metadata": {},
   "source": [
    "## Working with Dictionaries\n"
   ]
  },
  {
   "cell_type": "code",
   "execution_count": 106,
   "metadata": {},
   "outputs": [],
   "source": [
    "# Run this cell in order to have these two dictionary variables defined.\n",
    "tukey_paper = {\n",
    "    \"title\": \"The Future of Data Analysis\",\n",
    "    \"author\": \"John W. Tukey\",\n",
    "    \"link\": \"https://projecteuclid.org/euclid.aoms/1177704711\",\n",
    "    \"year_published\": 1962\n",
    "}\n",
    "\n",
    "thomas_paper = {\n",
    "    \"title\": \"A mathematical model of glutathione metabolism\",\n",
    "    \"author\": \"Rachel Thomas\",\n",
    "    \"link\": \"https://www.ncbi.nlm.nih.gov/pubmed/18442411\",\n",
    "    \"year_published\": 2008\n",
    "}"
   ]
  },
  {
   "cell_type": "code",
   "execution_count": 107,
   "metadata": {},
   "outputs": [
    {
     "name": "stdout",
     "output_type": "stream",
     "text": [
      "Help on class dict in module builtins:\n",
      "\n",
      "class dict(object)\n",
      " |  dict() -> new empty dictionary\n",
      " |  dict(mapping) -> new dictionary initialized from a mapping object's\n",
      " |      (key, value) pairs\n",
      " |  dict(iterable) -> new dictionary initialized as if via:\n",
      " |      d = {}\n",
      " |      for k, v in iterable:\n",
      " |          d[k] = v\n",
      " |  dict(**kwargs) -> new dictionary initialized with the name=value pairs\n",
      " |      in the keyword argument list.  For example:  dict(one=1, two=2)\n",
      " |  \n",
      " |  Methods defined here:\n",
      " |  \n",
      " |  __contains__(self, key, /)\n",
      " |      True if D has a key k, else False.\n",
      " |  \n",
      " |  __delitem__(self, key, /)\n",
      " |      Delete self[key].\n",
      " |  \n",
      " |  __eq__(self, value, /)\n",
      " |      Return self==value.\n",
      " |  \n",
      " |  __ge__(self, value, /)\n",
      " |      Return self>=value.\n",
      " |  \n",
      " |  __getattribute__(self, name, /)\n",
      " |      Return getattr(self, name).\n",
      " |  \n",
      " |  __getitem__(...)\n",
      " |      x.__getitem__(y) <==> x[y]\n",
      " |  \n",
      " |  __gt__(self, value, /)\n",
      " |      Return self>value.\n",
      " |  \n",
      " |  __init__(self, /, *args, **kwargs)\n",
      " |      Initialize self.  See help(type(self)) for accurate signature.\n",
      " |  \n",
      " |  __iter__(self, /)\n",
      " |      Implement iter(self).\n",
      " |  \n",
      " |  __le__(self, value, /)\n",
      " |      Return self<=value.\n",
      " |  \n",
      " |  __len__(self, /)\n",
      " |      Return len(self).\n",
      " |  \n",
      " |  __lt__(self, value, /)\n",
      " |      Return self<value.\n",
      " |  \n",
      " |  __ne__(self, value, /)\n",
      " |      Return self!=value.\n",
      " |  \n",
      " |  __new__(*args, **kwargs) from builtins.type\n",
      " |      Create and return a new object.  See help(type) for accurate signature.\n",
      " |  \n",
      " |  __repr__(self, /)\n",
      " |      Return repr(self).\n",
      " |  \n",
      " |  __setitem__(self, key, value, /)\n",
      " |      Set self[key] to value.\n",
      " |  \n",
      " |  __sizeof__(...)\n",
      " |      D.__sizeof__() -> size of D in memory, in bytes\n",
      " |  \n",
      " |  clear(...)\n",
      " |      D.clear() -> None.  Remove all items from D.\n",
      " |  \n",
      " |  copy(...)\n",
      " |      D.copy() -> a shallow copy of D\n",
      " |  \n",
      " |  fromkeys(iterable, value=None, /) from builtins.type\n",
      " |      Returns a new dict with keys from iterable and values equal to value.\n",
      " |  \n",
      " |  get(...)\n",
      " |      D.get(k[,d]) -> D[k] if k in D, else d.  d defaults to None.\n",
      " |  \n",
      " |  items(...)\n",
      " |      D.items() -> a set-like object providing a view on D's items\n",
      " |  \n",
      " |  keys(...)\n",
      " |      D.keys() -> a set-like object providing a view on D's keys\n",
      " |  \n",
      " |  pop(...)\n",
      " |      D.pop(k[,d]) -> v, remove specified key and return the corresponding value.\n",
      " |      If key is not found, d is returned if given, otherwise KeyError is raised\n",
      " |  \n",
      " |  popitem(...)\n",
      " |      D.popitem() -> (k, v), remove and return some (key, value) pair as a\n",
      " |      2-tuple; but raise KeyError if D is empty.\n",
      " |  \n",
      " |  setdefault(...)\n",
      " |      D.setdefault(k[,d]) -> D.get(k,d), also set D[k]=d if k not in D\n",
      " |  \n",
      " |  update(...)\n",
      " |      D.update([E, ]**F) -> None.  Update D from dict/iterable E and F.\n",
      " |      If E is present and has a .keys() method, then does:  for k in E: D[k] = E[k]\n",
      " |      If E is present and lacks a .keys() method, then does:  for k, v in E: D[k] = v\n",
      " |      In either case, this is followed by: for k in F:  D[k] = F[k]\n",
      " |  \n",
      " |  values(...)\n",
      " |      D.values() -> an object providing a view on D's values\n",
      " |  \n",
      " |  ----------------------------------------------------------------------\n",
      " |  Data and other attributes defined here:\n",
      " |  \n",
      " |  __hash__ = None\n",
      "\n"
     ]
    }
   ],
   "source": [
    "help(dict)"
   ]
  },
  {
   "cell_type": "code",
   "execution_count": 108,
   "metadata": {},
   "outputs": [
    {
     "name": "stdout",
     "output_type": "stream",
     "text": [
      "Exercise 87 is correct.\n"
     ]
    }
   ],
   "source": [
    "# Exercise 87\n",
    "# Write a function named get_paper_title that takes in a dictionary and returns the title property\n",
    "\n",
    "def get_paper_title(x):\n",
    "    return x['title']\n",
    "\n",
    "assert get_paper_title(tukey_paper) == \"The Future of Data Analysis\"\n",
    "assert get_paper_title(thomas_paper) == \"A mathematical model of glutathione metabolism\"\n",
    "print(\"Exercise 87 is correct.\")"
   ]
  },
  {
   "cell_type": "code",
   "execution_count": 109,
   "metadata": {},
   "outputs": [
    {
     "name": "stdout",
     "output_type": "stream",
     "text": [
      "Exercise 88 is correct.\n"
     ]
    }
   ],
   "source": [
    "# Exercise 88\n",
    "# Write a function named get_year_published that takes in a dictionary \n",
    "# and returns the value behind the \"year_published\" key.\n",
    "\n",
    "def get_year_published(x):\n",
    "    return x['year_published']\n",
    "\n",
    "assert get_year_published(tukey_paper) == 1962\n",
    "assert get_year_published(thomas_paper) == 2008\n",
    "print(\"Exercise 88 is correct.\")"
   ]
  },
  {
   "cell_type": "code",
   "execution_count": 110,
   "metadata": {},
   "outputs": [],
   "source": [
    "# Run this code to create data for the next two questions\n",
    "book = {\n",
    "    \"title\": \"Genetic Algorithms and Machine Learning for Programmers\",\n",
    "    \"price\": 36.99,\n",
    "    \"author\": \"Frances Buontempo\"\n",
    "}"
   ]
  },
  {
   "cell_type": "code",
   "execution_count": 111,
   "metadata": {},
   "outputs": [
    {
     "name": "stdout",
     "output_type": "stream",
     "text": [
      "Exercise 89 is complete.\n"
     ]
    }
   ],
   "source": [
    "# Exercise 89\n",
    "# Write a function named get_price that takes in a dictionary and returns the price\n",
    "def get_price(x):\n",
    "    return x['price']\n",
    "\n",
    "assert get_price(book) == 36.99\n",
    "print(\"Exercise 89 is complete.\")"
   ]
  },
  {
   "cell_type": "code",
   "execution_count": 112,
   "metadata": {},
   "outputs": [
    {
     "name": "stdout",
     "output_type": "stream",
     "text": [
      "Exercise 90 is complete.\n"
     ]
    }
   ],
   "source": [
    "# Exercise 90\n",
    "# Write a function named get_author that takes in a dictionary and returns the author's name\n",
    "\n",
    "def get_author_book(x):\n",
    "    return x['author']\n",
    "\n",
    "assert get_author_book(book) == \"Frances Buontempo\"\n",
    "print(\"Exercise 90 is complete.\")"
   ]
  },
  {
   "cell_type": "markdown",
   "metadata": {},
   "source": [
    "## Working with Lists of Dictionaries\n",
    "**Hint** If you need an example of lists of dictionaries, see [https://gist.github.com/ryanorsinger/fce8154028a924c1073eac24c7c3f409](https://gist.github.com/ryanorsinger/fce8154028a924c1073eac24c7c3f409)"
   ]
  },
  {
   "cell_type": "code",
   "execution_count": 113,
   "metadata": {},
   "outputs": [],
   "source": [
    "# Run this cell in order to have some setup data for the next exercises\n",
    "books = [\n",
    "    {\n",
    "        \"title\": \"Genetic Algorithms and Machine Learning for Programmers\",\n",
    "        \"price\": 36.99,\n",
    "        \"author\": \"Frances Buontempo\"\n",
    "    },\n",
    "    {\n",
    "        \"title\": \"The Visual Display of Quantitative Information\",\n",
    "        \"price\": 38.00,\n",
    "        \"author\": \"Edward Tufte\"\n",
    "    },\n",
    "    {\n",
    "        \"title\": \"Practical Object-Oriented Design\",\n",
    "        \"author\": \"Sandi Metz\",\n",
    "        \"price\": 30.47\n",
    "    },\n",
    "    {\n",
    "        \"title\": \"Weapons of Math Destruction\",\n",
    "        \"author\": \"Cathy O'Neil\",\n",
    "        \"price\": 17.44\n",
    "    }\n",
    "]"
   ]
  },
  {
   "cell_type": "code",
   "execution_count": 114,
   "metadata": {},
   "outputs": [
    {
     "name": "stdout",
     "output_type": "stream",
     "text": [
      "Exercise 91 is complete.\n"
     ]
    }
   ],
   "source": [
    "# Exercise 91\n",
    "# Write a function named get_number_of_books that takes in a list of objects \n",
    "# and returns the number of dictionaries in that list.\n",
    "def get_number_of_books(x):\n",
    "    return len(x)\n",
    "    \n",
    "\n",
    "\n",
    "assert get_number_of_books(books) == 4\n",
    "print(\"Exercise 91 is complete.\")"
   ]
  },
  {
   "cell_type": "code",
   "execution_count": 115,
   "metadata": {},
   "outputs": [
    {
     "name": "stdout",
     "output_type": "stream",
     "text": [
      "Exercise 92 is complete.\n"
     ]
    }
   ],
   "source": [
    "# Exercise 92\n",
    "# Write a function named total_of_book_prices that takes in a list of dictionaries \n",
    "# and returns the sum total of all the book prices added together\n",
    "\n",
    "def total_of_book_prices(books):\n",
    "    total = 0\n",
    "    for book in books:\n",
    "        total += book['price']\n",
    "    return total\n",
    "\n",
    "assert total_of_book_prices(books) == 122.9\n",
    "print(\"Exercise 92 is complete.\")"
   ]
  },
  {
   "cell_type": "code",
   "execution_count": 116,
   "metadata": {},
   "outputs": [
    {
     "name": "stdout",
     "output_type": "stream",
     "text": [
      "Exercise 93 is complete.\n"
     ]
    }
   ],
   "source": [
    "# Exercise 93\n",
    "# Write a function named get_average_book_price that takes in a list of dictionaries \n",
    "# and returns the average book price.\n",
    "\n",
    "def get_average_book_price(books):\n",
    "    total_price = 0\n",
    "    for book in books:\n",
    "        total_price += book['price']\n",
    "    return total_price/len(books)\n",
    "\n",
    "assert get_average_book_price(books) == 30.725\n",
    "print(\"Exercise 93 is complete.\")"
   ]
  },
  {
   "cell_type": "code",
   "execution_count": 117,
   "metadata": {},
   "outputs": [
    {
     "name": "stdout",
     "output_type": "stream",
     "text": [
      "{'title': 'The Visual Display of Quantitative Information', 'price': 38.0, 'author': 'Edward Tufte'}\n",
      "Exercise 94 is complete\n"
     ]
    }
   ],
   "source": [
    "# Exercise 94\n",
    "# Write a function called highest_priced_book that takes in the above defined list of dictionaries \"books\" \n",
    "# and returns the dictionary containing the title, price, and author of the book with the highest priced book.\n",
    "# Hint: Much like sometimes start functions with a variable set to zero, you may want to create a dictionary \n",
    "# with the price set to zero to compare to each dictionary's price in the list\n",
    "\n",
    "def highest_price_book(books):\n",
    "    highest_price = {\"title\": \"insert\", \"price\": 0, \"author\":\"name\"}\n",
    "    for i in range(len(books)):\n",
    "        if books[i][\"price\"] > highest_price[\"price\"]:\n",
    "            highest_price[\"price\"] = books[i][\"price\"]\n",
    "            highest_price[\"title\"] = books[i][\"title\"]\n",
    "            highest_price[\"author\"] = books[i][\"author\"]\n",
    "    return highest_price\n",
    "    \n",
    "print(highest_price_book(books))\n",
    "\n",
    "assert highest_price_book(books) == {\n",
    "    \"title\": \"The Visual Display of Quantitative Information\",\n",
    "    \"price\": 38.00,\n",
    "    \"author\": \"Edward Tufte\"\n",
    "}\n",
    "\n",
    "print(\"Exercise 94 is complete\")"
   ]
  },
  {
   "cell_type": "code",
   "execution_count": 118,
   "metadata": {},
   "outputs": [
    {
     "name": "stdout",
     "output_type": "stream",
     "text": [
      "{'title': 'Weapons of Math Destruction', 'price': 17.44, 'author': \"Cathy O'Neil\"}\n",
      "Exercise 95 is complete.\n"
     ]
    }
   ],
   "source": [
    "# Exercise 95\n",
    "# Write a function called lowest_priced_book that takes in the above defined list of dictionaries \"books\" \n",
    "#and returns the dictionary containing the title, price, and author of the book with the lowest priced book.\n",
    "# Hint: Much like sometimes start functions with a variable set to zero or float('inf'), \n",
    "# you may want to create a dictionary with the price set to float('inf') to compare to each dictionary in the list\n",
    "\n",
    "def lowest_price_book(books):\n",
    "    lowest_price = {\"title\": \"insert\", \"price\": float('inf'), \"author\":\"name\"}\n",
    "    for i in range(len(books)):\n",
    "        if books[i][\"price\"] < lowest_price[\"price\"]:\n",
    "            lowest_price[\"price\"] = books[i][\"price\"]\n",
    "            lowest_price[\"title\"] = books[i][\"title\"]\n",
    "            lowest_price[\"author\"] = books[i][\"author\"]\n",
    "    return lowest_price\n",
    "    \n",
    "print(lowest_price_book(books))\n",
    "\n",
    "assert lowest_price_book(books) == {\n",
    "    \"title\": \"Weapons of Math Destruction\",\n",
    "    \"author\": \"Cathy O'Neil\",\n",
    "    \"price\": 17.44\n",
    "}\n",
    "print(\"Exercise 95 is complete.\")"
   ]
  },
  {
   "cell_type": "code",
   "execution_count": 119,
   "metadata": {},
   "outputs": [],
   "source": [
    "shopping_cart = {\n",
    "    \"tax\": .08,\n",
    "    \"items\": [\n",
    "        {\n",
    "            \"title\": \"orange juice\",\n",
    "            \"price\": 3.99,\n",
    "            \"quantity\": 1\n",
    "        },\n",
    "        {\n",
    "            \"title\": \"rice\",\n",
    "            \"price\": 1.99,\n",
    "            \"quantity\": 3\n",
    "        },\n",
    "        {\n",
    "            \"title\": \"beans\",\n",
    "            \"price\": 0.99,\n",
    "            \"quantity\": 3\n",
    "        },\n",
    "        {\n",
    "            \"title\": \"chili sauce\",\n",
    "            \"price\": 2.99,\n",
    "            \"quantity\": 1\n",
    "        },\n",
    "        {\n",
    "            \"title\": \"chocolate\",\n",
    "            \"price\": 0.75,\n",
    "            \"quantity\": 9\n",
    "        }\n",
    "    ]\n",
    "}"
   ]
  },
  {
   "cell_type": "code",
   "execution_count": 120,
   "metadata": {},
   "outputs": [
    {
     "name": "stdout",
     "output_type": "stream",
     "text": [
      "Exercise 96 is complete\n"
     ]
    }
   ],
   "source": [
    "# Exercise 96\n",
    "# Write a function named get_tax_rate that takes in the above shopping cart as input and returns the tax rate.\n",
    "# Hint: How do you access a key's value on a dictionary? \n",
    "# The tax rate is one key of the entire shopping_cart dictionary.\n",
    "\n",
    "def get_tax_rate(shopping_cart):\n",
    "    return shopping_cart['tax']\n",
    "\n",
    "assert get_tax_rate(shopping_cart) == .08\n",
    "print(\"Exercise 96 is complete\")"
   ]
  },
  {
   "cell_type": "code",
   "execution_count": 121,
   "metadata": {},
   "outputs": [
    {
     "name": "stdout",
     "output_type": "stream",
     "text": [
      "Exercise 97 is complete.\n"
     ]
    }
   ],
   "source": [
    "# Exercise 97\n",
    "# Write a function named number_of_item_types that takes in the shopping cart as input\n",
    "# and returns the number of unique item types in the shopping cart. \n",
    "# We're not yet using the quantity of each item, \n",
    "# but rather focusing on determining how many different types of items are in the cart.\n",
    "\n",
    "def number_of_item_types(shopping_cart):\n",
    "    return len(shopping_cart[\"items\"])\n",
    "\n",
    "assert number_of_item_types(shopping_cart) == 5\n",
    "print(\"Exercise 97 is complete.\")"
   ]
  },
  {
   "cell_type": "code",
   "execution_count": 122,
   "metadata": {},
   "outputs": [
    {
     "name": "stdout",
     "output_type": "stream",
     "text": [
      "1\n"
     ]
    }
   ],
   "source": [
    "print(shopping_cart[\"items\"][0][\"quantity\"])"
   ]
  },
  {
   "cell_type": "code",
   "execution_count": 123,
   "metadata": {},
   "outputs": [
    {
     "name": "stdout",
     "output_type": "stream",
     "text": [
      "17\n",
      "Exercise 98 is complete.\n"
     ]
    }
   ],
   "source": [
    "# Exercise 98\n",
    "# Write a function named total_number_of_items that takes in the shopping cart as input and returns the number of each item times its quantity to produce a total quantity amount\n",
    "# This should return the sum of all of the quantities from each item type\n",
    "\n",
    "def total_number_of_items(shopping_cart):\n",
    "    total = 0\n",
    "    for i in range(len(shopping_cart[\"items\"])):\n",
    "        total += shopping_cart[\"items\"][i][\"quantity\"]\n",
    "    return total\n",
    "\n",
    "print(total_number_of_items(shopping_cart))\n",
    "\n",
    "assert total_number_of_items(shopping_cart) == 17\n",
    "print(\"Exercise 98 is complete.\")"
   ]
  },
  {
   "cell_type": "code",
   "execution_count": 124,
   "metadata": {},
   "outputs": [
    {
     "name": "stdout",
     "output_type": "stream",
     "text": [
      "2.1420000000000003\n",
      "Exercise 99 is complete.\n"
     ]
    }
   ],
   "source": [
    "# Exercise 99\n",
    "# Write a function named get_average_item_price that takes in the shopping cart as an input \n",
    "# and returns the average of all the item prices.\n",
    "# Hint - This should determine the total price divided by the number of types of items. \n",
    "# This does not account for each item type's quantity.\n",
    "\n",
    "def get_average_item_price(shopping_cart):\n",
    "    total_price = 0\n",
    "    for i in range(len(shopping_cart[\"items\"])):\n",
    "        total_price += shopping_cart[\"items\"][i][\"price\"]\n",
    "    return total_price/number_of_item_types(shopping_cart)\n",
    "\n",
    "print(get_average_item_price(shopping_cart))\n",
    "\n",
    "assert get_average_item_price(shopping_cart) == 2.1420000000000003\n",
    "print(\"Exercise 99 is complete.\")"
   ]
  },
  {
   "cell_type": "code",
   "execution_count": 125,
   "metadata": {},
   "outputs": [
    {
     "name": "stdout",
     "output_type": "stream",
     "text": [
      "Exercise 100 is complete.\n"
     ]
    }
   ],
   "source": [
    "# Exercise 100\n",
    "# Write a function named get_average_spent_per_item that takes in the shopping cart \n",
    "# and returns the average of summing each item's quanties times that item's price.\n",
    "# Hint: You may need to set an initial total price and total total quantity to zero, \n",
    "# then sum up and divide that total price by the total quantity\n",
    "\n",
    "def get_average_spent_per_item(shopping_cart):\n",
    "    total_price = 0\n",
    "    for i in range(len(shopping_cart[\"items\"])):\n",
    "        total_price += shopping_cart[\"items\"][i][\"price\"] * shopping_cart[\"items\"][i][\"quantity\"]\n",
    "    return total_price/total_number_of_items(shopping_cart)\n",
    "\n",
    "assert get_average_spent_per_item(shopping_cart) == 1.333529411764706\n",
    "print(\"Exercise 100 is complete.\")"
   ]
  },
  {
   "cell_type": "code",
   "execution_count": 126,
   "metadata": {},
   "outputs": [
    {
     "name": "stdout",
     "output_type": "stream",
     "text": [
      "{'title': 'item', 'price': 0, 'quantity': 0}\n"
     ]
    }
   ],
   "source": [
    "expensive = {\"title\": \"item\", \"price\":0, \"quantity\":0}\n",
    "print(expensive)"
   ]
  },
  {
   "cell_type": "code",
   "execution_count": 127,
   "metadata": {},
   "outputs": [
    {
     "name": "stdout",
     "output_type": "stream",
     "text": [
      "{'title': 'chocolate', 'price': 0.75, 'quantity': 9}\n",
      "Exercise 101 is complete.\n"
     ]
    }
   ],
   "source": [
    "# Exercise 101\n",
    "# Write a function named most_spent_on_item that takes in the shopping cart as input and returns the dictionary \n",
    "# of the item*quantity that is the highest amount. Be sure to do this as programmatically as possible. \n",
    "# Hint: Similarly to how we sometimes begin a function with setting a variable to zero, we need a starting place:\n",
    "# Hint: Consider creating a variable that is a dictionary with the keys \"price\" and \"quantity\" both set to 0. \n",
    "# You can then compare each item's price and quantity total to the one from \"most\"\n",
    "\n",
    "def most_spent_on_item(shopping_cart):\n",
    "    expensive = {\"title\": \"item\", \"price\":0, \"quantity\":0}\n",
    "    for i in range(len(shopping_cart[\"items\"])):\n",
    "        spent = shopping_cart[\"items\"][i][\"quantity\"] * shopping_cart[\"items\"][i][\"price\"]\n",
    "        if spent > expensive[\"price\"]:\n",
    "            expensive[\"title\"] = shopping_cart[\"items\"][i][\"title\"]\n",
    "            expensive[\"price\"] = shopping_cart[\"items\"][i][\"price\"]\n",
    "            expensive[\"quantity\"] = shopping_cart[\"items\"][i][\"quantity\"]\n",
    "    return expensive\n",
    "\n",
    "print(most_spent_on_item(shopping_cart))\n",
    "\n",
    "assert most_spent_on_item(shopping_cart) == {\n",
    "    \"title\": \"chocolate\",\n",
    "    \"price\": 0.75,\n",
    "    \"quantity\": 9\n",
    "}\n",
    "print(\"Exercise 101 is complete.\")"
   ]
  },
  {
   "cell_type": "markdown",
   "metadata": {},
   "source": [
    "Created by [Ryan Orsinger](https://ryanorsinger.com)\n",
    "\n",
    "Source code on [https://github.com/ryanorsinger/101-exercises](https://github.com/ryanorsinger/101-exercises)\n",
    "\n",
    "Proudly hosted on [Kaggle.com](https://kaggle.com/ryanorsinger)"
   ]
  }
 ],
 "metadata": {
  "kernelspec": {
   "display_name": "Python 3",
   "language": "python",
   "name": "python3"
  },
  "language_info": {
   "codemirror_mode": {
    "name": "ipython",
    "version": 3
   },
   "file_extension": ".py",
   "mimetype": "text/x-python",
   "name": "python",
   "nbconvert_exporter": "python",
   "pygments_lexer": "ipython3",
   "version": "3.6.6"
  }
 },
 "nbformat": 4,
 "nbformat_minor": 1
}
